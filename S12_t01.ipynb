{
 "cells": [
  {
   "cell_type": "markdown",
   "id": "e040fd8b",
   "metadata": {},
   "source": [
    "# S12 T01: Pipelines, grid search y text mining\n",
    "### - Descripción\n",
    "Empecemos a familiarizarnos con Pipelines, grid search y text mining !!! Empecemos con varios ejercicios básicos\n",
    "___"
   ]
  },
  {
   "cell_type": "code",
   "execution_count": 1,
   "id": "4c2f5a5b",
   "metadata": {},
   "outputs": [],
   "source": [
    "#import basic libreries\n",
    "import pandas as pd\n",
    "import numpy as np\n",
    "import matplotlib.pyplot as plt\n",
    "import seaborn as sns\n",
    "from datetime import time\n",
    "from sklearn.model_selection import train_test_split\n",
    "from category_encoders import TargetEncoder\n",
    "from sklearn.preprocessing import StandardScaler\n",
    "from sklearn.ensemble import RandomForestRegressor\n",
    "from sklearn.metrics import mean_squared_error\n",
    "from sklearn.compose import ColumnTransformer \n",
    "from sklearn.impute import SimpleImputer\n",
    "import category_encoders as ce\n",
    "from sklearn.preprocessing import StandardScaler\n",
    "from sklearn.ensemble import RandomForestRegressor\n",
    "from sklearn.pipeline import Pipeline\n",
    "from sklearn import set_config\n",
    "from sklearn.model_selection import GridSearchCV\n",
    "from sklearn.model_selection import cross_val_score\n",
    "from nltk.tokenize import word_tokenize\n",
    "import string\n",
    "from nltk.probability import FreqDist\n",
    "import nltk\n",
    "nltk.download('stopwords')\n",
    "from nltk.corpus import stopwords\n",
    "from nltk.stem import PorterStemmer\n",
    "from nltk.tokenize import sent_tokenize\n",
    "from wordcloud import WordCloud, ImageColorGenerator\n",
    "nltk.download('wordnet')\n",
    "from nltk.sentiment.vader import SentimentIntensityAnalyzer\n",
    "nltk.download('vader_lexicon')\n",
    "import nltk\n",
    "nltk.download('punkt')"
   ]
  },
  {
   "cell_type": "code",
   "execution_count": 2,
   "id": "49b0467d",
   "metadata": {},
   "outputs": [],
   "source": [
    "#import te dataset \n",
    "database_flights = pd.read_csv('DelayedFlights.csv')"
   ]
  },
  {
   "cell_type": "markdown",
   "id": "33b91348",
   "metadata": {},
   "source": [
    "## Data information:\n",
    "- *Year:* 2008 year of flight (stored as integer).\n",
    "- *Month:* 1-12 month of the flight(stored as integer).\n",
    "- *DayOfMonth*: day of the month (1 to 31) (stored as integer).\n",
    "- *DayOfWeek*: day of the week (stored as factor). 1 (Monday) - 7 (Sunday) \n",
    "- *DepTime*: actual departure time (local, hhmm)\n",
    "- *CRSDepTime*: scheduled departure time (local, hhmm)\n",
    "- *ArrTime*: actual arrival time (local, hhmm)\n",
    "- *CRSArrTime*: scheduled arrival time (local, hhmm)\n",
    "- *UniqueCarrier*: unique carrier code\n",
    "- *FlightNum*: flight number\n",
    "- *TailNum*: plane tail number: aircraft registration, unique aircraft identifier\n",
    "- *ActualElapsedTime*: in minutes\n",
    "- *CRSElapsedTime*: in minutes\n",
    "- *AirTime*: in minutes\n",
    "- *ArrDelay*: arrival delay, in minutes: A flight is counted as \"on time\" if it operated less than 15 minutes later the scheduled time shown in the carriers' Computerized Reservations Systems (CRS).\n",
    "- *DepDelay*: departure delay, in minutes\n",
    "- *Origin*: origin IATA airport code\n",
    "- *Dest*: destination IATA airport code\n",
    "- *Distance*: in miles\n",
    "- *TaxiIn*: taxi in time, in minutes\n",
    "- *TaxiOut*: taxi out time in minutes\n",
    "- *Cancelled*: was the flight cancelled\n",
    "- *CancellationCode*: reason for cancellation (A = carrier, B = weather, C = NAS, D = security)\n",
    "- *Diverted* 1 = yes, 0 = no\n",
    "- *CarrierDelay in minutes*: Carrier delay is within the control of the air carrier. Examples of occurrences that may determine carrier delay are: aircraft cleaning, aircraft damage, awaiting the arrival of connecting passengers or crew, baggage, bird strike, cargo loading, catering, computer, outage-carrier equipment, crew legality (pilot or attendant rest), damage by hazardous goods, engineering inspection, fueling, handling disabled passengers, late crew, lavatory servicing, maintenance, oversales, potable water servicing, removal of unruly passenger, slow boarding or seating, stowing carry-on baggage, weight and balance delays.\n",
    "- *WeatherDelay in minutes*: Weather delay is caused by extreme or hazardous weather conditions that are forecasted or manifest themselves on point of departure, enroute, or on point of arrival.\n",
    "- *NASDelay in minutes: Delay that is within the control of the National Airspace System (NAS) may include: non-extreme weather conditions, airport operations, heavy traffic volume, air traffic control, etc.\n",
    "- *SecurityDelay in minutes*: Security delay is caused by evacuation of a terminal or concourse, re-boarding of aircraft because of security breach, inoperative screening equipment and/or long lines in excess of 29 minutes at screening areas.\n",
    "- *LateAircraftDelay in minutes*: Arrival delay at an airport due to the late arrival of the same aircraft at a previous airport. The ripple effect of an earlier delay at downstream airports is referred to as delay propagation.\n",
    "\n",
    "*https://dataverse.harvard.edu/dataset.xhtml?persistentId=doi:10.7910/DVN/HG7NV7"
   ]
  },
  {
   "cell_type": "markdown",
   "id": "c2a9536b",
   "metadata": {},
   "source": [
    "## Data preprocessing:"
   ]
  },
  {
   "cell_type": "code",
   "execution_count": 3,
   "id": "465e1dad",
   "metadata": {
    "scrolled": false
   },
   "outputs": [
    {
     "name": "stdout",
     "output_type": "stream",
     "text": [
      "(1936758, 30)\n"
     ]
    },
    {
     "data": {
      "text/html": [
       "<div>\n",
       "<style scoped>\n",
       "    .dataframe tbody tr th:only-of-type {\n",
       "        vertical-align: middle;\n",
       "    }\n",
       "\n",
       "    .dataframe tbody tr th {\n",
       "        vertical-align: top;\n",
       "    }\n",
       "\n",
       "    .dataframe thead th {\n",
       "        text-align: right;\n",
       "    }\n",
       "</style>\n",
       "<table border=\"1\" class=\"dataframe\">\n",
       "  <thead>\n",
       "    <tr style=\"text-align: right;\">\n",
       "      <th></th>\n",
       "      <th>count</th>\n",
       "      <th>mean</th>\n",
       "      <th>std</th>\n",
       "      <th>min</th>\n",
       "      <th>25%</th>\n",
       "      <th>50%</th>\n",
       "      <th>75%</th>\n",
       "      <th>max</th>\n",
       "    </tr>\n",
       "  </thead>\n",
       "  <tbody>\n",
       "    <tr>\n",
       "      <th>Unnamed: 0</th>\n",
       "      <td>1936758.0</td>\n",
       "      <td>3.341651e+06</td>\n",
       "      <td>2.066065e+06</td>\n",
       "      <td>0.0</td>\n",
       "      <td>1517452.5</td>\n",
       "      <td>3242558.0</td>\n",
       "      <td>4972466.75</td>\n",
       "      <td>7009727.0</td>\n",
       "    </tr>\n",
       "    <tr>\n",
       "      <th>Year</th>\n",
       "      <td>1936758.0</td>\n",
       "      <td>2.008000e+03</td>\n",
       "      <td>0.000000e+00</td>\n",
       "      <td>2008.0</td>\n",
       "      <td>2008.0</td>\n",
       "      <td>2008.0</td>\n",
       "      <td>2008.00</td>\n",
       "      <td>2008.0</td>\n",
       "    </tr>\n",
       "    <tr>\n",
       "      <th>Month</th>\n",
       "      <td>1936758.0</td>\n",
       "      <td>6.111106e+00</td>\n",
       "      <td>3.482546e+00</td>\n",
       "      <td>1.0</td>\n",
       "      <td>3.0</td>\n",
       "      <td>6.0</td>\n",
       "      <td>9.00</td>\n",
       "      <td>12.0</td>\n",
       "    </tr>\n",
       "    <tr>\n",
       "      <th>DayofMonth</th>\n",
       "      <td>1936758.0</td>\n",
       "      <td>1.575347e+01</td>\n",
       "      <td>8.776272e+00</td>\n",
       "      <td>1.0</td>\n",
       "      <td>8.0</td>\n",
       "      <td>16.0</td>\n",
       "      <td>23.00</td>\n",
       "      <td>31.0</td>\n",
       "    </tr>\n",
       "    <tr>\n",
       "      <th>DayOfWeek</th>\n",
       "      <td>1936758.0</td>\n",
       "      <td>3.984827e+00</td>\n",
       "      <td>1.995966e+00</td>\n",
       "      <td>1.0</td>\n",
       "      <td>2.0</td>\n",
       "      <td>4.0</td>\n",
       "      <td>6.00</td>\n",
       "      <td>7.0</td>\n",
       "    </tr>\n",
       "    <tr>\n",
       "      <th>DepTime</th>\n",
       "      <td>1936758.0</td>\n",
       "      <td>1.518534e+03</td>\n",
       "      <td>4.504853e+02</td>\n",
       "      <td>1.0</td>\n",
       "      <td>1203.0</td>\n",
       "      <td>1545.0</td>\n",
       "      <td>1900.00</td>\n",
       "      <td>2400.0</td>\n",
       "    </tr>\n",
       "    <tr>\n",
       "      <th>CRSDepTime</th>\n",
       "      <td>1936758.0</td>\n",
       "      <td>1.467473e+03</td>\n",
       "      <td>4.247668e+02</td>\n",
       "      <td>0.0</td>\n",
       "      <td>1135.0</td>\n",
       "      <td>1510.0</td>\n",
       "      <td>1815.00</td>\n",
       "      <td>2359.0</td>\n",
       "    </tr>\n",
       "    <tr>\n",
       "      <th>ArrTime</th>\n",
       "      <td>1929648.0</td>\n",
       "      <td>1.610141e+03</td>\n",
       "      <td>5.481781e+02</td>\n",
       "      <td>1.0</td>\n",
       "      <td>1316.0</td>\n",
       "      <td>1715.0</td>\n",
       "      <td>2030.00</td>\n",
       "      <td>2400.0</td>\n",
       "    </tr>\n",
       "    <tr>\n",
       "      <th>CRSArrTime</th>\n",
       "      <td>1936758.0</td>\n",
       "      <td>1.634225e+03</td>\n",
       "      <td>4.646347e+02</td>\n",
       "      <td>0.0</td>\n",
       "      <td>1325.0</td>\n",
       "      <td>1705.0</td>\n",
       "      <td>2014.00</td>\n",
       "      <td>2400.0</td>\n",
       "    </tr>\n",
       "    <tr>\n",
       "      <th>FlightNum</th>\n",
       "      <td>1936758.0</td>\n",
       "      <td>2.184263e+03</td>\n",
       "      <td>1.944702e+03</td>\n",
       "      <td>1.0</td>\n",
       "      <td>610.0</td>\n",
       "      <td>1543.0</td>\n",
       "      <td>3422.00</td>\n",
       "      <td>9742.0</td>\n",
       "    </tr>\n",
       "    <tr>\n",
       "      <th>ActualElapsedTime</th>\n",
       "      <td>1928371.0</td>\n",
       "      <td>1.333059e+02</td>\n",
       "      <td>7.206007e+01</td>\n",
       "      <td>14.0</td>\n",
       "      <td>80.0</td>\n",
       "      <td>116.0</td>\n",
       "      <td>165.00</td>\n",
       "      <td>1114.0</td>\n",
       "    </tr>\n",
       "    <tr>\n",
       "      <th>CRSElapsedTime</th>\n",
       "      <td>1936560.0</td>\n",
       "      <td>1.343027e+02</td>\n",
       "      <td>7.134144e+01</td>\n",
       "      <td>-25.0</td>\n",
       "      <td>82.0</td>\n",
       "      <td>116.0</td>\n",
       "      <td>165.00</td>\n",
       "      <td>660.0</td>\n",
       "    </tr>\n",
       "    <tr>\n",
       "      <th>AirTime</th>\n",
       "      <td>1928371.0</td>\n",
       "      <td>1.082771e+02</td>\n",
       "      <td>6.864261e+01</td>\n",
       "      <td>0.0</td>\n",
       "      <td>58.0</td>\n",
       "      <td>90.0</td>\n",
       "      <td>137.00</td>\n",
       "      <td>1091.0</td>\n",
       "    </tr>\n",
       "    <tr>\n",
       "      <th>ArrDelay</th>\n",
       "      <td>1928371.0</td>\n",
       "      <td>4.219988e+01</td>\n",
       "      <td>5.678472e+01</td>\n",
       "      <td>-109.0</td>\n",
       "      <td>9.0</td>\n",
       "      <td>24.0</td>\n",
       "      <td>56.00</td>\n",
       "      <td>2461.0</td>\n",
       "    </tr>\n",
       "    <tr>\n",
       "      <th>DepDelay</th>\n",
       "      <td>1936758.0</td>\n",
       "      <td>4.318518e+01</td>\n",
       "      <td>5.340250e+01</td>\n",
       "      <td>6.0</td>\n",
       "      <td>12.0</td>\n",
       "      <td>24.0</td>\n",
       "      <td>53.00</td>\n",
       "      <td>2467.0</td>\n",
       "    </tr>\n",
       "    <tr>\n",
       "      <th>Distance</th>\n",
       "      <td>1936758.0</td>\n",
       "      <td>7.656862e+02</td>\n",
       "      <td>5.744797e+02</td>\n",
       "      <td>11.0</td>\n",
       "      <td>338.0</td>\n",
       "      <td>606.0</td>\n",
       "      <td>998.00</td>\n",
       "      <td>4962.0</td>\n",
       "    </tr>\n",
       "    <tr>\n",
       "      <th>TaxiIn</th>\n",
       "      <td>1929648.0</td>\n",
       "      <td>6.812975e+00</td>\n",
       "      <td>5.273595e+00</td>\n",
       "      <td>0.0</td>\n",
       "      <td>4.0</td>\n",
       "      <td>6.0</td>\n",
       "      <td>8.00</td>\n",
       "      <td>240.0</td>\n",
       "    </tr>\n",
       "    <tr>\n",
       "      <th>TaxiOut</th>\n",
       "      <td>1936303.0</td>\n",
       "      <td>1.823220e+01</td>\n",
       "      <td>1.433853e+01</td>\n",
       "      <td>0.0</td>\n",
       "      <td>10.0</td>\n",
       "      <td>14.0</td>\n",
       "      <td>21.00</td>\n",
       "      <td>422.0</td>\n",
       "    </tr>\n",
       "    <tr>\n",
       "      <th>Cancelled</th>\n",
       "      <td>1936758.0</td>\n",
       "      <td>3.268348e-04</td>\n",
       "      <td>1.807562e-02</td>\n",
       "      <td>0.0</td>\n",
       "      <td>0.0</td>\n",
       "      <td>0.0</td>\n",
       "      <td>0.00</td>\n",
       "      <td>1.0</td>\n",
       "    </tr>\n",
       "    <tr>\n",
       "      <th>Diverted</th>\n",
       "      <td>1936758.0</td>\n",
       "      <td>4.003598e-03</td>\n",
       "      <td>6.314722e-02</td>\n",
       "      <td>0.0</td>\n",
       "      <td>0.0</td>\n",
       "      <td>0.0</td>\n",
       "      <td>0.00</td>\n",
       "      <td>1.0</td>\n",
       "    </tr>\n",
       "    <tr>\n",
       "      <th>CarrierDelay</th>\n",
       "      <td>1247488.0</td>\n",
       "      <td>1.917940e+01</td>\n",
       "      <td>4.354621e+01</td>\n",
       "      <td>0.0</td>\n",
       "      <td>0.0</td>\n",
       "      <td>2.0</td>\n",
       "      <td>21.00</td>\n",
       "      <td>2436.0</td>\n",
       "    </tr>\n",
       "    <tr>\n",
       "      <th>WeatherDelay</th>\n",
       "      <td>1247488.0</td>\n",
       "      <td>3.703571e+00</td>\n",
       "      <td>2.149290e+01</td>\n",
       "      <td>0.0</td>\n",
       "      <td>0.0</td>\n",
       "      <td>0.0</td>\n",
       "      <td>0.00</td>\n",
       "      <td>1352.0</td>\n",
       "    </tr>\n",
       "    <tr>\n",
       "      <th>NASDelay</th>\n",
       "      <td>1247488.0</td>\n",
       "      <td>1.502164e+01</td>\n",
       "      <td>3.383305e+01</td>\n",
       "      <td>0.0</td>\n",
       "      <td>0.0</td>\n",
       "      <td>2.0</td>\n",
       "      <td>15.00</td>\n",
       "      <td>1357.0</td>\n",
       "    </tr>\n",
       "    <tr>\n",
       "      <th>SecurityDelay</th>\n",
       "      <td>1247488.0</td>\n",
       "      <td>9.013714e-02</td>\n",
       "      <td>2.022714e+00</td>\n",
       "      <td>0.0</td>\n",
       "      <td>0.0</td>\n",
       "      <td>0.0</td>\n",
       "      <td>0.00</td>\n",
       "      <td>392.0</td>\n",
       "    </tr>\n",
       "    <tr>\n",
       "      <th>LateAircraftDelay</th>\n",
       "      <td>1247488.0</td>\n",
       "      <td>2.529647e+01</td>\n",
       "      <td>4.205486e+01</td>\n",
       "      <td>0.0</td>\n",
       "      <td>0.0</td>\n",
       "      <td>8.0</td>\n",
       "      <td>33.00</td>\n",
       "      <td>1316.0</td>\n",
       "    </tr>\n",
       "  </tbody>\n",
       "</table>\n",
       "</div>"
      ],
      "text/plain": [
       "                       count          mean           std     min        25%  \\\n",
       "Unnamed: 0         1936758.0  3.341651e+06  2.066065e+06     0.0  1517452.5   \n",
       "Year               1936758.0  2.008000e+03  0.000000e+00  2008.0     2008.0   \n",
       "Month              1936758.0  6.111106e+00  3.482546e+00     1.0        3.0   \n",
       "DayofMonth         1936758.0  1.575347e+01  8.776272e+00     1.0        8.0   \n",
       "DayOfWeek          1936758.0  3.984827e+00  1.995966e+00     1.0        2.0   \n",
       "DepTime            1936758.0  1.518534e+03  4.504853e+02     1.0     1203.0   \n",
       "CRSDepTime         1936758.0  1.467473e+03  4.247668e+02     0.0     1135.0   \n",
       "ArrTime            1929648.0  1.610141e+03  5.481781e+02     1.0     1316.0   \n",
       "CRSArrTime         1936758.0  1.634225e+03  4.646347e+02     0.0     1325.0   \n",
       "FlightNum          1936758.0  2.184263e+03  1.944702e+03     1.0      610.0   \n",
       "ActualElapsedTime  1928371.0  1.333059e+02  7.206007e+01    14.0       80.0   \n",
       "CRSElapsedTime     1936560.0  1.343027e+02  7.134144e+01   -25.0       82.0   \n",
       "AirTime            1928371.0  1.082771e+02  6.864261e+01     0.0       58.0   \n",
       "ArrDelay           1928371.0  4.219988e+01  5.678472e+01  -109.0        9.0   \n",
       "DepDelay           1936758.0  4.318518e+01  5.340250e+01     6.0       12.0   \n",
       "Distance           1936758.0  7.656862e+02  5.744797e+02    11.0      338.0   \n",
       "TaxiIn             1929648.0  6.812975e+00  5.273595e+00     0.0        4.0   \n",
       "TaxiOut            1936303.0  1.823220e+01  1.433853e+01     0.0       10.0   \n",
       "Cancelled          1936758.0  3.268348e-04  1.807562e-02     0.0        0.0   \n",
       "Diverted           1936758.0  4.003598e-03  6.314722e-02     0.0        0.0   \n",
       "CarrierDelay       1247488.0  1.917940e+01  4.354621e+01     0.0        0.0   \n",
       "WeatherDelay       1247488.0  3.703571e+00  2.149290e+01     0.0        0.0   \n",
       "NASDelay           1247488.0  1.502164e+01  3.383305e+01     0.0        0.0   \n",
       "SecurityDelay      1247488.0  9.013714e-02  2.022714e+00     0.0        0.0   \n",
       "LateAircraftDelay  1247488.0  2.529647e+01  4.205486e+01     0.0        0.0   \n",
       "\n",
       "                         50%         75%        max  \n",
       "Unnamed: 0         3242558.0  4972466.75  7009727.0  \n",
       "Year                  2008.0     2008.00     2008.0  \n",
       "Month                    6.0        9.00       12.0  \n",
       "DayofMonth              16.0       23.00       31.0  \n",
       "DayOfWeek                4.0        6.00        7.0  \n",
       "DepTime               1545.0     1900.00     2400.0  \n",
       "CRSDepTime            1510.0     1815.00     2359.0  \n",
       "ArrTime               1715.0     2030.00     2400.0  \n",
       "CRSArrTime            1705.0     2014.00     2400.0  \n",
       "FlightNum             1543.0     3422.00     9742.0  \n",
       "ActualElapsedTime      116.0      165.00     1114.0  \n",
       "CRSElapsedTime         116.0      165.00      660.0  \n",
       "AirTime                 90.0      137.00     1091.0  \n",
       "ArrDelay                24.0       56.00     2461.0  \n",
       "DepDelay                24.0       53.00     2467.0  \n",
       "Distance               606.0      998.00     4962.0  \n",
       "TaxiIn                   6.0        8.00      240.0  \n",
       "TaxiOut                 14.0       21.00      422.0  \n",
       "Cancelled                0.0        0.00        1.0  \n",
       "Diverted                 0.0        0.00        1.0  \n",
       "CarrierDelay             2.0       21.00     2436.0  \n",
       "WeatherDelay             0.0        0.00     1352.0  \n",
       "NASDelay                 2.0       15.00     1357.0  \n",
       "SecurityDelay            0.0        0.00      392.0  \n",
       "LateAircraftDelay        8.0       33.00     1316.0  "
      ]
     },
     "execution_count": 3,
     "metadata": {},
     "output_type": "execute_result"
    }
   ],
   "source": [
    "print(database_flights.shape)\n",
    "database_flights.describe().transpose()"
   ]
  },
  {
   "cell_type": "code",
   "execution_count": 4,
   "id": "4f1d2a46",
   "metadata": {
    "scrolled": true
   },
   "outputs": [],
   "source": [
    "database_flights = database_flights.drop(['Unnamed: 0','TailNum'],axis=1)"
   ]
  },
  {
   "cell_type": "code",
   "execution_count": 5,
   "id": "650b2ae8",
   "metadata": {},
   "outputs": [
    {
     "name": "stdout",
     "output_type": "stream",
     "text": [
      "<class 'pandas.core.frame.DataFrame'>\n",
      "RangeIndex: 1936758 entries, 0 to 1936757\n",
      "Data columns (total 28 columns):\n",
      " #   Column             Dtype  \n",
      "---  ------             -----  \n",
      " 0   Year               int64  \n",
      " 1   Month              int64  \n",
      " 2   DayofMonth         int64  \n",
      " 3   DayOfWeek          int64  \n",
      " 4   DepTime            float64\n",
      " 5   CRSDepTime         int64  \n",
      " 6   ArrTime            float64\n",
      " 7   CRSArrTime         int64  \n",
      " 8   UniqueCarrier      object \n",
      " 9   FlightNum          int64  \n",
      " 10  ActualElapsedTime  float64\n",
      " 11  CRSElapsedTime     float64\n",
      " 12  AirTime            float64\n",
      " 13  ArrDelay           float64\n",
      " 14  DepDelay           float64\n",
      " 15  Origin             object \n",
      " 16  Dest               object \n",
      " 17  Distance           int64  \n",
      " 18  TaxiIn             float64\n",
      " 19  TaxiOut            float64\n",
      " 20  Cancelled          int64  \n",
      " 21  CancellationCode   object \n",
      " 22  Diverted           int64  \n",
      " 23  CarrierDelay       float64\n",
      " 24  WeatherDelay       float64\n",
      " 25  NASDelay           float64\n",
      " 26  SecurityDelay      float64\n",
      " 27  LateAircraftDelay  float64\n",
      "dtypes: float64(14), int64(10), object(4)\n",
      "memory usage: 413.7+ MB\n"
     ]
    }
   ],
   "source": [
    "database_flights.info()"
   ]
  },
  {
   "cell_type": "markdown",
   "id": "92d60d10",
   "metadata": {},
   "source": [
    "### Procesamiento y Limpieza de datos \n"
   ]
  },
  {
   "cell_type": "code",
   "execution_count": 6,
   "id": "34d8b7de",
   "metadata": {},
   "outputs": [],
   "source": [
    "#data type object to categoric variables\n",
    "database_flights[['UniqueCarrier','Origin','Dest']] = database_flights[['UniqueCarrier','Origin','Dest']].astype('category')"
   ]
  },
  {
   "cell_type": "code",
   "execution_count": 7,
   "id": "eff24a8f",
   "metadata": {
    "scrolled": false
   },
   "outputs": [
    {
     "data": {
      "text/plain": [
       "Year                      0\n",
       "Month                     0\n",
       "DayofMonth                0\n",
       "DayOfWeek                 0\n",
       "DepTime                   0\n",
       "CRSDepTime                0\n",
       "ArrTime                7110\n",
       "CRSArrTime                0\n",
       "UniqueCarrier             0\n",
       "FlightNum                 0\n",
       "ActualElapsedTime      8387\n",
       "CRSElapsedTime          198\n",
       "AirTime                8387\n",
       "ArrDelay               8387\n",
       "DepDelay                  0\n",
       "Origin                    0\n",
       "Dest                      0\n",
       "Distance                  0\n",
       "TaxiIn                 7110\n",
       "TaxiOut                 455\n",
       "Cancelled                 0\n",
       "CancellationCode          0\n",
       "Diverted                  0\n",
       "CarrierDelay         689270\n",
       "WeatherDelay         689270\n",
       "NASDelay             689270\n",
       "SecurityDelay        689270\n",
       "LateAircraftDelay    689270\n",
       "dtype: int64"
      ]
     },
     "execution_count": 7,
     "metadata": {},
     "output_type": "execute_result"
    }
   ],
   "source": [
    "database_flights.isna().sum()"
   ]
  },
  {
   "cell_type": "markdown",
   "id": "cf205c35",
   "metadata": {},
   "source": [
    "Como los datos faltantes se refieren a entradas de informacion que no se encuentran, eliminamos las observaciones con datos faltantes."
   ]
  },
  {
   "cell_type": "code",
   "execution_count": 8,
   "id": "2156d7b4",
   "metadata": {},
   "outputs": [],
   "source": [
    "database_flights.dropna(inplace=True)"
   ]
  },
  {
   "cell_type": "code",
   "execution_count": 9,
   "id": "58f25bdb",
   "metadata": {},
   "outputs": [],
   "source": [
    "#data float to int\n",
    "database_flights[[\"ActualElapsedTime\",\"CRSElapsedTime\",\"AirTime\",'ArrDelay','DepDelay','CRSDepTime','DepTime','CRSArrTime','ArrTime']] = database_flights[[\"ActualElapsedTime\",\"CRSElapsedTime\",\"AirTime\",'ArrDelay','DepDelay','CRSDepTime','DepTime','CRSArrTime','ArrTime']].astype('int64')"
   ]
  },
  {
   "cell_type": "markdown",
   "id": "2893ab69",
   "metadata": {},
   "source": [
    "### Data sample\n",
    "\n",
    "Al tener casi dos millones de datos, se hace un muestreo aleatorio simple para poder optimizar los tiempos de calculo del notebook.\n",
    "<br>\n",
    "\n",
    "El sampling por calculo nos dice que una muestra valida puede ser de 400 datos, pero para abarcar un expectro mayor de datos, se ha decidido usar una muestra de mil datos"
   ]
  },
  {
   "cell_type": "code",
   "execution_count": 10,
   "id": "bd2af024",
   "metadata": {
    "scrolled": true
   },
   "outputs": [
    {
     "data": {
      "text/html": [
       "<div>\n",
       "<style scoped>\n",
       "    .dataframe tbody tr th:only-of-type {\n",
       "        vertical-align: middle;\n",
       "    }\n",
       "\n",
       "    .dataframe tbody tr th {\n",
       "        vertical-align: top;\n",
       "    }\n",
       "\n",
       "    .dataframe thead th {\n",
       "        text-align: right;\n",
       "    }\n",
       "</style>\n",
       "<table border=\"1\" class=\"dataframe\">\n",
       "  <thead>\n",
       "    <tr style=\"text-align: right;\">\n",
       "      <th></th>\n",
       "      <th>Year</th>\n",
       "      <th>Month</th>\n",
       "      <th>DayofMonth</th>\n",
       "      <th>DayOfWeek</th>\n",
       "      <th>DepTime</th>\n",
       "      <th>CRSDepTime</th>\n",
       "      <th>ArrTime</th>\n",
       "      <th>CRSArrTime</th>\n",
       "      <th>UniqueCarrier</th>\n",
       "      <th>FlightNum</th>\n",
       "      <th>...</th>\n",
       "      <th>TaxiIn</th>\n",
       "      <th>TaxiOut</th>\n",
       "      <th>Cancelled</th>\n",
       "      <th>CancellationCode</th>\n",
       "      <th>Diverted</th>\n",
       "      <th>CarrierDelay</th>\n",
       "      <th>WeatherDelay</th>\n",
       "      <th>NASDelay</th>\n",
       "      <th>SecurityDelay</th>\n",
       "      <th>LateAircraftDelay</th>\n",
       "    </tr>\n",
       "  </thead>\n",
       "  <tbody>\n",
       "    <tr>\n",
       "      <th>1057817</th>\n",
       "      <td>2008</td>\n",
       "      <td>6</td>\n",
       "      <td>9</td>\n",
       "      <td>1</td>\n",
       "      <td>1016</td>\n",
       "      <td>1010</td>\n",
       "      <td>1323</td>\n",
       "      <td>1255</td>\n",
       "      <td>AS</td>\n",
       "      <td>651</td>\n",
       "      <td>...</td>\n",
       "      <td>3.0</td>\n",
       "      <td>25.0</td>\n",
       "      <td>0</td>\n",
       "      <td>N</td>\n",
       "      <td>0</td>\n",
       "      <td>6.0</td>\n",
       "      <td>0.0</td>\n",
       "      <td>22.0</td>\n",
       "      <td>0.0</td>\n",
       "      <td>0.0</td>\n",
       "    </tr>\n",
       "    <tr>\n",
       "      <th>116991</th>\n",
       "      <td>2008</td>\n",
       "      <td>1</td>\n",
       "      <td>25</td>\n",
       "      <td>5</td>\n",
       "      <td>1653</td>\n",
       "      <td>1500</td>\n",
       "      <td>1731</td>\n",
       "      <td>1548</td>\n",
       "      <td>MQ</td>\n",
       "      <td>3249</td>\n",
       "      <td>...</td>\n",
       "      <td>2.0</td>\n",
       "      <td>15.0</td>\n",
       "      <td>0</td>\n",
       "      <td>N</td>\n",
       "      <td>0</td>\n",
       "      <td>103.0</td>\n",
       "      <td>0.0</td>\n",
       "      <td>0.0</td>\n",
       "      <td>0.0</td>\n",
       "      <td>0.0</td>\n",
       "    </tr>\n",
       "    <tr>\n",
       "      <th>122272</th>\n",
       "      <td>2008</td>\n",
       "      <td>1</td>\n",
       "      <td>20</td>\n",
       "      <td>7</td>\n",
       "      <td>1100</td>\n",
       "      <td>1015</td>\n",
       "      <td>1208</td>\n",
       "      <td>1125</td>\n",
       "      <td>MQ</td>\n",
       "      <td>3985</td>\n",
       "      <td>...</td>\n",
       "      <td>3.0</td>\n",
       "      <td>14.0</td>\n",
       "      <td>0</td>\n",
       "      <td>N</td>\n",
       "      <td>0</td>\n",
       "      <td>0.0</td>\n",
       "      <td>9.0</td>\n",
       "      <td>0.0</td>\n",
       "      <td>0.0</td>\n",
       "      <td>34.0</td>\n",
       "    </tr>\n",
       "    <tr>\n",
       "      <th>431879</th>\n",
       "      <td>2008</td>\n",
       "      <td>3</td>\n",
       "      <td>14</td>\n",
       "      <td>5</td>\n",
       "      <td>1920</td>\n",
       "      <td>1730</td>\n",
       "      <td>2033</td>\n",
       "      <td>1838</td>\n",
       "      <td>OH</td>\n",
       "      <td>5604</td>\n",
       "      <td>...</td>\n",
       "      <td>2.0</td>\n",
       "      <td>12.0</td>\n",
       "      <td>0</td>\n",
       "      <td>N</td>\n",
       "      <td>0</td>\n",
       "      <td>110.0</td>\n",
       "      <td>0.0</td>\n",
       "      <td>5.0</td>\n",
       "      <td>0.0</td>\n",
       "      <td>0.0</td>\n",
       "    </tr>\n",
       "    <tr>\n",
       "      <th>113258</th>\n",
       "      <td>2008</td>\n",
       "      <td>1</td>\n",
       "      <td>17</td>\n",
       "      <td>4</td>\n",
       "      <td>1712</td>\n",
       "      <td>1529</td>\n",
       "      <td>1859</td>\n",
       "      <td>1711</td>\n",
       "      <td>FL</td>\n",
       "      <td>62</td>\n",
       "      <td>...</td>\n",
       "      <td>17.0</td>\n",
       "      <td>18.0</td>\n",
       "      <td>0</td>\n",
       "      <td>N</td>\n",
       "      <td>0</td>\n",
       "      <td>0.0</td>\n",
       "      <td>0.0</td>\n",
       "      <td>108.0</td>\n",
       "      <td>0.0</td>\n",
       "      <td>0.0</td>\n",
       "    </tr>\n",
       "    <tr>\n",
       "      <th>...</th>\n",
       "      <td>...</td>\n",
       "      <td>...</td>\n",
       "      <td>...</td>\n",
       "      <td>...</td>\n",
       "      <td>...</td>\n",
       "      <td>...</td>\n",
       "      <td>...</td>\n",
       "      <td>...</td>\n",
       "      <td>...</td>\n",
       "      <td>...</td>\n",
       "      <td>...</td>\n",
       "      <td>...</td>\n",
       "      <td>...</td>\n",
       "      <td>...</td>\n",
       "      <td>...</td>\n",
       "      <td>...</td>\n",
       "      <td>...</td>\n",
       "      <td>...</td>\n",
       "      <td>...</td>\n",
       "      <td>...</td>\n",
       "      <td>...</td>\n",
       "    </tr>\n",
       "    <tr>\n",
       "      <th>739059</th>\n",
       "      <td>2008</td>\n",
       "      <td>5</td>\n",
       "      <td>13</td>\n",
       "      <td>2</td>\n",
       "      <td>2317</td>\n",
       "      <td>2100</td>\n",
       "      <td>37</td>\n",
       "      <td>2210</td>\n",
       "      <td>WN</td>\n",
       "      <td>3207</td>\n",
       "      <td>...</td>\n",
       "      <td>4.0</td>\n",
       "      <td>12.0</td>\n",
       "      <td>0</td>\n",
       "      <td>N</td>\n",
       "      <td>0</td>\n",
       "      <td>0.0</td>\n",
       "      <td>0.0</td>\n",
       "      <td>10.0</td>\n",
       "      <td>0.0</td>\n",
       "      <td>137.0</td>\n",
       "    </tr>\n",
       "    <tr>\n",
       "      <th>1222301</th>\n",
       "      <td>2008</td>\n",
       "      <td>7</td>\n",
       "      <td>2</td>\n",
       "      <td>3</td>\n",
       "      <td>1703</td>\n",
       "      <td>1625</td>\n",
       "      <td>1953</td>\n",
       "      <td>1855</td>\n",
       "      <td>AA</td>\n",
       "      <td>257</td>\n",
       "      <td>...</td>\n",
       "      <td>6.0</td>\n",
       "      <td>54.0</td>\n",
       "      <td>0</td>\n",
       "      <td>N</td>\n",
       "      <td>0</td>\n",
       "      <td>0.0</td>\n",
       "      <td>0.0</td>\n",
       "      <td>20.0</td>\n",
       "      <td>0.0</td>\n",
       "      <td>38.0</td>\n",
       "    </tr>\n",
       "    <tr>\n",
       "      <th>213013</th>\n",
       "      <td>2008</td>\n",
       "      <td>2</td>\n",
       "      <td>24</td>\n",
       "      <td>7</td>\n",
       "      <td>1855</td>\n",
       "      <td>1830</td>\n",
       "      <td>2119</td>\n",
       "      <td>2100</td>\n",
       "      <td>WN</td>\n",
       "      <td>1598</td>\n",
       "      <td>...</td>\n",
       "      <td>5.0</td>\n",
       "      <td>12.0</td>\n",
       "      <td>0</td>\n",
       "      <td>N</td>\n",
       "      <td>0</td>\n",
       "      <td>0.0</td>\n",
       "      <td>0.0</td>\n",
       "      <td>0.0</td>\n",
       "      <td>0.0</td>\n",
       "      <td>19.0</td>\n",
       "    </tr>\n",
       "    <tr>\n",
       "      <th>61676</th>\n",
       "      <td>2008</td>\n",
       "      <td>1</td>\n",
       "      <td>22</td>\n",
       "      <td>2</td>\n",
       "      <td>1003</td>\n",
       "      <td>950</td>\n",
       "      <td>1138</td>\n",
       "      <td>1109</td>\n",
       "      <td>OO</td>\n",
       "      <td>5561</td>\n",
       "      <td>...</td>\n",
       "      <td>4.0</td>\n",
       "      <td>18.0</td>\n",
       "      <td>0</td>\n",
       "      <td>N</td>\n",
       "      <td>0</td>\n",
       "      <td>0.0</td>\n",
       "      <td>0.0</td>\n",
       "      <td>0.0</td>\n",
       "      <td>0.0</td>\n",
       "      <td>29.0</td>\n",
       "    </tr>\n",
       "    <tr>\n",
       "      <th>1349524</th>\n",
       "      <td>2008</td>\n",
       "      <td>8</td>\n",
       "      <td>26</td>\n",
       "      <td>2</td>\n",
       "      <td>1816</td>\n",
       "      <td>1600</td>\n",
       "      <td>1903</td>\n",
       "      <td>1619</td>\n",
       "      <td>DL</td>\n",
       "      <td>1015</td>\n",
       "      <td>...</td>\n",
       "      <td>6.0</td>\n",
       "      <td>53.0</td>\n",
       "      <td>0</td>\n",
       "      <td>N</td>\n",
       "      <td>0</td>\n",
       "      <td>0.0</td>\n",
       "      <td>0.0</td>\n",
       "      <td>28.0</td>\n",
       "      <td>0.0</td>\n",
       "      <td>136.0</td>\n",
       "    </tr>\n",
       "  </tbody>\n",
       "</table>\n",
       "<p>1000 rows × 28 columns</p>\n",
       "</div>"
      ],
      "text/plain": [
       "         Year  Month  DayofMonth  DayOfWeek  DepTime  CRSDepTime  ArrTime  \\\n",
       "1057817  2008      6           9          1     1016        1010     1323   \n",
       "116991   2008      1          25          5     1653        1500     1731   \n",
       "122272   2008      1          20          7     1100        1015     1208   \n",
       "431879   2008      3          14          5     1920        1730     2033   \n",
       "113258   2008      1          17          4     1712        1529     1859   \n",
       "...       ...    ...         ...        ...      ...         ...      ...   \n",
       "739059   2008      5          13          2     2317        2100       37   \n",
       "1222301  2008      7           2          3     1703        1625     1953   \n",
       "213013   2008      2          24          7     1855        1830     2119   \n",
       "61676    2008      1          22          2     1003         950     1138   \n",
       "1349524  2008      8          26          2     1816        1600     1903   \n",
       "\n",
       "         CRSArrTime UniqueCarrier  FlightNum  ...  TaxiIn  TaxiOut  Cancelled  \\\n",
       "1057817        1255            AS        651  ...     3.0     25.0          0   \n",
       "116991         1548            MQ       3249  ...     2.0     15.0          0   \n",
       "122272         1125            MQ       3985  ...     3.0     14.0          0   \n",
       "431879         1838            OH       5604  ...     2.0     12.0          0   \n",
       "113258         1711            FL         62  ...    17.0     18.0          0   \n",
       "...             ...           ...        ...  ...     ...      ...        ...   \n",
       "739059         2210            WN       3207  ...     4.0     12.0          0   \n",
       "1222301        1855            AA        257  ...     6.0     54.0          0   \n",
       "213013         2100            WN       1598  ...     5.0     12.0          0   \n",
       "61676          1109            OO       5561  ...     4.0     18.0          0   \n",
       "1349524        1619            DL       1015  ...     6.0     53.0          0   \n",
       "\n",
       "         CancellationCode  Diverted CarrierDelay WeatherDelay  NASDelay  \\\n",
       "1057817                 N         0          6.0          0.0      22.0   \n",
       "116991                  N         0        103.0          0.0       0.0   \n",
       "122272                  N         0          0.0          9.0       0.0   \n",
       "431879                  N         0        110.0          0.0       5.0   \n",
       "113258                  N         0          0.0          0.0     108.0   \n",
       "...                   ...       ...          ...          ...       ...   \n",
       "739059                  N         0          0.0          0.0      10.0   \n",
       "1222301                 N         0          0.0          0.0      20.0   \n",
       "213013                  N         0          0.0          0.0       0.0   \n",
       "61676                   N         0          0.0          0.0       0.0   \n",
       "1349524                 N         0          0.0          0.0      28.0   \n",
       "\n",
       "         SecurityDelay  LateAircraftDelay  \n",
       "1057817            0.0                0.0  \n",
       "116991             0.0                0.0  \n",
       "122272             0.0               34.0  \n",
       "431879             0.0                0.0  \n",
       "113258             0.0                0.0  \n",
       "...                ...                ...  \n",
       "739059             0.0              137.0  \n",
       "1222301            0.0               38.0  \n",
       "213013             0.0               19.0  \n",
       "61676              0.0               29.0  \n",
       "1349524            0.0              136.0  \n",
       "\n",
       "[1000 rows x 28 columns]"
      ]
     },
     "execution_count": 10,
     "metadata": {},
     "output_type": "execute_result"
    }
   ],
   "source": [
    "#Simple Random Sampling\n",
    "data_sample = database_flights.sample(1000, random_state=1)\n",
    "data_sample"
   ]
  },
  {
   "cell_type": "markdown",
   "id": "25c43050",
   "metadata": {},
   "source": [
    "### Feature engineering\n",
    "\n",
    "Primero normalizamos las variables categoricas:"
   ]
  },
  {
   "cell_type": "code",
   "execution_count": 11,
   "id": "e4d38ebc",
   "metadata": {},
   "outputs": [
    {
     "name": "stderr",
     "output_type": "stream",
     "text": [
      "C:\\Users\\Usuario\\anaconda3\\lib\\site-packages\\category_encoders\\utils.py:21: FutureWarning: is_categorical is deprecated and will be removed in a future version.  Use is_categorical_dtype instead\n",
      "  elif pd.api.types.is_categorical(cols):\n"
     ]
    }
   ],
   "source": [
    "encoder = TargetEncoder()\n",
    "data_sample[['Origin','Dest','UniqueCarrier','CancellationCode']]=encoder.fit_transform(data_sample[['Origin','Dest','UniqueCarrier','CancellationCode']],data_sample['ArrDelay'])\n"
   ]
  },
  {
   "cell_type": "markdown",
   "id": "e73d072f",
   "metadata": {},
   "source": [
    "Segundo, escalamos los datos"
   ]
  },
  {
   "cell_type": "code",
   "execution_count": 12,
   "id": "bdebb87d",
   "metadata": {},
   "outputs": [],
   "source": [
    "#copy of dataset\n",
    "data_scale=data_sample.drop(columns=['ArrDelay'])\n",
    "\n",
    "#scaler\n",
    "scaler= StandardScaler()\n",
    "\n",
    "#scale data\n",
    "scaler.fit(data_scale)\n",
    "\n",
    "#transform the data\n",
    "data_fs = scaler.transform(data_scale)\n",
    "data_fs = pd.DataFrame(data_fs, columns=data_scale.columns)\n"
   ]
  },
  {
   "cell_type": "code",
   "execution_count": 13,
   "id": "c9787a34",
   "metadata": {
    "scrolled": true
   },
   "outputs": [
    {
     "data": {
      "text/html": [
       "<div>\n",
       "<style scoped>\n",
       "    .dataframe tbody tr th:only-of-type {\n",
       "        vertical-align: middle;\n",
       "    }\n",
       "\n",
       "    .dataframe tbody tr th {\n",
       "        vertical-align: top;\n",
       "    }\n",
       "\n",
       "    .dataframe thead th {\n",
       "        text-align: right;\n",
       "    }\n",
       "</style>\n",
       "<table border=\"1\" class=\"dataframe\">\n",
       "  <thead>\n",
       "    <tr style=\"text-align: right;\">\n",
       "      <th></th>\n",
       "      <th>Year</th>\n",
       "      <th>Month</th>\n",
       "      <th>DayofMonth</th>\n",
       "      <th>DayOfWeek</th>\n",
       "      <th>DepTime</th>\n",
       "      <th>CRSDepTime</th>\n",
       "      <th>ArrTime</th>\n",
       "      <th>CRSArrTime</th>\n",
       "      <th>UniqueCarrier</th>\n",
       "      <th>FlightNum</th>\n",
       "      <th>...</th>\n",
       "      <th>TaxiIn</th>\n",
       "      <th>TaxiOut</th>\n",
       "      <th>Cancelled</th>\n",
       "      <th>CancellationCode</th>\n",
       "      <th>Diverted</th>\n",
       "      <th>CarrierDelay</th>\n",
       "      <th>WeatherDelay</th>\n",
       "      <th>NASDelay</th>\n",
       "      <th>SecurityDelay</th>\n",
       "      <th>LateAircraftDelay</th>\n",
       "    </tr>\n",
       "  </thead>\n",
       "  <tbody>\n",
       "    <tr>\n",
       "      <th>0</th>\n",
       "      <td>0.0</td>\n",
       "      <td>-0.052724</td>\n",
       "      <td>-0.794358</td>\n",
       "      <td>-1.516466</td>\n",
       "      <td>-1.238523</td>\n",
       "      <td>-1.182092</td>\n",
       "      <td>-0.555101</td>\n",
       "      <td>-0.898944</td>\n",
       "      <td>1.902284</td>\n",
       "      <td>-0.795145</td>\n",
       "      <td>...</td>\n",
       "      <td>-0.817799</td>\n",
       "      <td>0.248118</td>\n",
       "      <td>0.0</td>\n",
       "      <td>-1.0</td>\n",
       "      <td>0.0</td>\n",
       "      <td>-0.303146</td>\n",
       "      <td>-0.196992</td>\n",
       "      <td>0.330072</td>\n",
       "      <td>-0.055347</td>\n",
       "      <td>-0.658186</td>\n",
       "    </tr>\n",
       "    <tr>\n",
       "      <th>1</th>\n",
       "      <td>0.0</td>\n",
       "      <td>-1.470036</td>\n",
       "      <td>1.015887</td>\n",
       "      <td>0.519059</td>\n",
       "      <td>0.208368</td>\n",
       "      <td>0.017333</td>\n",
       "      <td>0.166427</td>\n",
       "      <td>-0.252338</td>\n",
       "      <td>-0.834019</td>\n",
       "      <td>0.520506</td>\n",
       "      <td>...</td>\n",
       "      <td>-1.012698</td>\n",
       "      <td>-0.330650</td>\n",
       "      <td>0.0</td>\n",
       "      <td>-1.0</td>\n",
       "      <td>0.0</td>\n",
       "      <td>1.852342</td>\n",
       "      <td>-0.196992</td>\n",
       "      <td>-0.479831</td>\n",
       "      <td>-0.055347</td>\n",
       "      <td>-0.658186</td>\n",
       "    </tr>\n",
       "    <tr>\n",
       "      <th>2</th>\n",
       "      <td>0.0</td>\n",
       "      <td>-1.470036</td>\n",
       "      <td>0.450185</td>\n",
       "      <td>1.536821</td>\n",
       "      <td>-1.047725</td>\n",
       "      <td>-1.169853</td>\n",
       "      <td>-0.758472</td>\n",
       "      <td>-1.185834</td>\n",
       "      <td>-0.834019</td>\n",
       "      <td>0.893224</td>\n",
       "      <td>...</td>\n",
       "      <td>-0.817799</td>\n",
       "      <td>-0.388527</td>\n",
       "      <td>0.0</td>\n",
       "      <td>-1.0</td>\n",
       "      <td>0.0</td>\n",
       "      <td>-0.436475</td>\n",
       "      <td>0.281661</td>\n",
       "      <td>-0.479831</td>\n",
       "      <td>-0.055347</td>\n",
       "      <td>0.243475</td>\n",
       "    </tr>\n",
       "    <tr>\n",
       "      <th>3</th>\n",
       "      <td>0.0</td>\n",
       "      <td>-0.903111</td>\n",
       "      <td>-0.228657</td>\n",
       "      <td>0.519059</td>\n",
       "      <td>0.814836</td>\n",
       "      <td>0.580329</td>\n",
       "      <td>0.700499</td>\n",
       "      <td>0.387648</td>\n",
       "      <td>0.808634</td>\n",
       "      <td>1.713100</td>\n",
       "      <td>...</td>\n",
       "      <td>-1.012698</td>\n",
       "      <td>-0.504280</td>\n",
       "      <td>0.0</td>\n",
       "      <td>-1.0</td>\n",
       "      <td>0.0</td>\n",
       "      <td>2.007893</td>\n",
       "      <td>-0.196992</td>\n",
       "      <td>-0.295762</td>\n",
       "      <td>-0.055347</td>\n",
       "      <td>-0.658186</td>\n",
       "    </tr>\n",
       "    <tr>\n",
       "      <th>4</th>\n",
       "      <td>0.0</td>\n",
       "      <td>-1.470036</td>\n",
       "      <td>0.110764</td>\n",
       "      <td>0.010178</td>\n",
       "      <td>0.342382</td>\n",
       "      <td>0.088319</td>\n",
       "      <td>0.392789</td>\n",
       "      <td>0.107379</td>\n",
       "      <td>0.494487</td>\n",
       "      <td>-1.093420</td>\n",
       "      <td>...</td>\n",
       "      <td>1.910796</td>\n",
       "      <td>-0.157020</td>\n",
       "      <td>0.0</td>\n",
       "      <td>-1.0</td>\n",
       "      <td>0.0</td>\n",
       "      <td>-0.436475</td>\n",
       "      <td>-0.196992</td>\n",
       "      <td>3.496057</td>\n",
       "      <td>-0.055347</td>\n",
       "      <td>-0.658186</td>\n",
       "    </tr>\n",
       "    <tr>\n",
       "      <th>...</th>\n",
       "      <td>...</td>\n",
       "      <td>...</td>\n",
       "      <td>...</td>\n",
       "      <td>...</td>\n",
       "      <td>...</td>\n",
       "      <td>...</td>\n",
       "      <td>...</td>\n",
       "      <td>...</td>\n",
       "      <td>...</td>\n",
       "      <td>...</td>\n",
       "      <td>...</td>\n",
       "      <td>...</td>\n",
       "      <td>...</td>\n",
       "      <td>...</td>\n",
       "      <td>...</td>\n",
       "      <td>...</td>\n",
       "      <td>...</td>\n",
       "      <td>...</td>\n",
       "      <td>...</td>\n",
       "      <td>...</td>\n",
       "      <td>...</td>\n",
       "    </tr>\n",
       "    <tr>\n",
       "      <th>995</th>\n",
       "      <td>0.0</td>\n",
       "      <td>-0.336186</td>\n",
       "      <td>-0.341797</td>\n",
       "      <td>-1.007585</td>\n",
       "      <td>1.716588</td>\n",
       "      <td>1.486017</td>\n",
       "      <td>-2.829328</td>\n",
       "      <td>1.208596</td>\n",
       "      <td>-1.335163</td>\n",
       "      <td>0.499237</td>\n",
       "      <td>...</td>\n",
       "      <td>-0.622899</td>\n",
       "      <td>-0.504280</td>\n",
       "      <td>0.0</td>\n",
       "      <td>-1.0</td>\n",
       "      <td>0.0</td>\n",
       "      <td>-0.436475</td>\n",
       "      <td>-0.196992</td>\n",
       "      <td>-0.111693</td>\n",
       "      <td>-0.055347</td>\n",
       "      <td>2.974976</td>\n",
       "    </tr>\n",
       "    <tr>\n",
       "      <th>996</th>\n",
       "      <td>0.0</td>\n",
       "      <td>0.230738</td>\n",
       "      <td>-1.586340</td>\n",
       "      <td>-0.498704</td>\n",
       "      <td>0.321939</td>\n",
       "      <td>0.323309</td>\n",
       "      <td>0.559023</td>\n",
       "      <td>0.425165</td>\n",
       "      <td>0.334297</td>\n",
       "      <td>-0.994671</td>\n",
       "      <td>...</td>\n",
       "      <td>-0.233100</td>\n",
       "      <td>1.926543</td>\n",
       "      <td>0.0</td>\n",
       "      <td>-1.0</td>\n",
       "      <td>0.0</td>\n",
       "      <td>-0.436475</td>\n",
       "      <td>-0.196992</td>\n",
       "      <td>0.256445</td>\n",
       "      <td>-0.055347</td>\n",
       "      <td>0.349553</td>\n",
       "    </tr>\n",
       "    <tr>\n",
       "      <th>997</th>\n",
       "      <td>0.0</td>\n",
       "      <td>-1.186574</td>\n",
       "      <td>0.902746</td>\n",
       "      <td>1.536821</td>\n",
       "      <td>0.667194</td>\n",
       "      <td>0.825109</td>\n",
       "      <td>0.852586</td>\n",
       "      <td>0.965842</td>\n",
       "      <td>-1.335163</td>\n",
       "      <td>-0.315576</td>\n",
       "      <td>...</td>\n",
       "      <td>-0.428000</td>\n",
       "      <td>-0.504280</td>\n",
       "      <td>0.0</td>\n",
       "      <td>-1.0</td>\n",
       "      <td>0.0</td>\n",
       "      <td>-0.436475</td>\n",
       "      <td>-0.196992</td>\n",
       "      <td>-0.479831</td>\n",
       "      <td>-0.055347</td>\n",
       "      <td>-0.154317</td>\n",
       "    </tr>\n",
       "    <tr>\n",
       "      <th>998</th>\n",
       "      <td>0.0</td>\n",
       "      <td>-1.470036</td>\n",
       "      <td>0.676466</td>\n",
       "      <td>-1.007585</td>\n",
       "      <td>-1.268052</td>\n",
       "      <td>-1.328961</td>\n",
       "      <td>-0.882264</td>\n",
       "      <td>-1.221144</td>\n",
       "      <td>0.637350</td>\n",
       "      <td>1.691325</td>\n",
       "      <td>...</td>\n",
       "      <td>-0.622899</td>\n",
       "      <td>-0.157020</td>\n",
       "      <td>0.0</td>\n",
       "      <td>-1.0</td>\n",
       "      <td>0.0</td>\n",
       "      <td>-0.436475</td>\n",
       "      <td>-0.196992</td>\n",
       "      <td>-0.479831</td>\n",
       "      <td>-0.055347</td>\n",
       "      <td>0.110878</td>\n",
       "    </tr>\n",
       "    <tr>\n",
       "      <th>999</th>\n",
       "      <td>0.0</td>\n",
       "      <td>0.514201</td>\n",
       "      <td>1.129027</td>\n",
       "      <td>-1.007585</td>\n",
       "      <td>0.578609</td>\n",
       "      <td>0.262114</td>\n",
       "      <td>0.470601</td>\n",
       "      <td>-0.095651</td>\n",
       "      <td>0.239436</td>\n",
       "      <td>-0.610812</td>\n",
       "      <td>...</td>\n",
       "      <td>-0.233100</td>\n",
       "      <td>1.868666</td>\n",
       "      <td>0.0</td>\n",
       "      <td>-1.0</td>\n",
       "      <td>0.0</td>\n",
       "      <td>-0.436475</td>\n",
       "      <td>-0.196992</td>\n",
       "      <td>0.550955</td>\n",
       "      <td>-0.055347</td>\n",
       "      <td>2.948457</td>\n",
       "    </tr>\n",
       "  </tbody>\n",
       "</table>\n",
       "<p>1000 rows × 27 columns</p>\n",
       "</div>"
      ],
      "text/plain": [
       "     Year     Month  DayofMonth  DayOfWeek   DepTime  CRSDepTime   ArrTime  \\\n",
       "0     0.0 -0.052724   -0.794358  -1.516466 -1.238523   -1.182092 -0.555101   \n",
       "1     0.0 -1.470036    1.015887   0.519059  0.208368    0.017333  0.166427   \n",
       "2     0.0 -1.470036    0.450185   1.536821 -1.047725   -1.169853 -0.758472   \n",
       "3     0.0 -0.903111   -0.228657   0.519059  0.814836    0.580329  0.700499   \n",
       "4     0.0 -1.470036    0.110764   0.010178  0.342382    0.088319  0.392789   \n",
       "..    ...       ...         ...        ...       ...         ...       ...   \n",
       "995   0.0 -0.336186   -0.341797  -1.007585  1.716588    1.486017 -2.829328   \n",
       "996   0.0  0.230738   -1.586340  -0.498704  0.321939    0.323309  0.559023   \n",
       "997   0.0 -1.186574    0.902746   1.536821  0.667194    0.825109  0.852586   \n",
       "998   0.0 -1.470036    0.676466  -1.007585 -1.268052   -1.328961 -0.882264   \n",
       "999   0.0  0.514201    1.129027  -1.007585  0.578609    0.262114  0.470601   \n",
       "\n",
       "     CRSArrTime  UniqueCarrier  FlightNum  ...    TaxiIn   TaxiOut  Cancelled  \\\n",
       "0     -0.898944       1.902284  -0.795145  ... -0.817799  0.248118        0.0   \n",
       "1     -0.252338      -0.834019   0.520506  ... -1.012698 -0.330650        0.0   \n",
       "2     -1.185834      -0.834019   0.893224  ... -0.817799 -0.388527        0.0   \n",
       "3      0.387648       0.808634   1.713100  ... -1.012698 -0.504280        0.0   \n",
       "4      0.107379       0.494487  -1.093420  ...  1.910796 -0.157020        0.0   \n",
       "..          ...            ...        ...  ...       ...       ...        ...   \n",
       "995    1.208596      -1.335163   0.499237  ... -0.622899 -0.504280        0.0   \n",
       "996    0.425165       0.334297  -0.994671  ... -0.233100  1.926543        0.0   \n",
       "997    0.965842      -1.335163  -0.315576  ... -0.428000 -0.504280        0.0   \n",
       "998   -1.221144       0.637350   1.691325  ... -0.622899 -0.157020        0.0   \n",
       "999   -0.095651       0.239436  -0.610812  ... -0.233100  1.868666        0.0   \n",
       "\n",
       "     CancellationCode  Diverted  CarrierDelay  WeatherDelay  NASDelay  \\\n",
       "0                -1.0       0.0     -0.303146     -0.196992  0.330072   \n",
       "1                -1.0       0.0      1.852342     -0.196992 -0.479831   \n",
       "2                -1.0       0.0     -0.436475      0.281661 -0.479831   \n",
       "3                -1.0       0.0      2.007893     -0.196992 -0.295762   \n",
       "4                -1.0       0.0     -0.436475     -0.196992  3.496057   \n",
       "..                ...       ...           ...           ...       ...   \n",
       "995              -1.0       0.0     -0.436475     -0.196992 -0.111693   \n",
       "996              -1.0       0.0     -0.436475     -0.196992  0.256445   \n",
       "997              -1.0       0.0     -0.436475     -0.196992 -0.479831   \n",
       "998              -1.0       0.0     -0.436475     -0.196992 -0.479831   \n",
       "999              -1.0       0.0     -0.436475     -0.196992  0.550955   \n",
       "\n",
       "     SecurityDelay  LateAircraftDelay  \n",
       "0        -0.055347          -0.658186  \n",
       "1        -0.055347          -0.658186  \n",
       "2        -0.055347           0.243475  \n",
       "3        -0.055347          -0.658186  \n",
       "4        -0.055347          -0.658186  \n",
       "..             ...                ...  \n",
       "995      -0.055347           2.974976  \n",
       "996      -0.055347           0.349553  \n",
       "997      -0.055347          -0.154317  \n",
       "998      -0.055347           0.110878  \n",
       "999      -0.055347           2.948457  \n",
       "\n",
       "[1000 rows x 27 columns]"
      ]
     },
     "execution_count": 13,
     "metadata": {},
     "output_type": "execute_result"
    }
   ],
   "source": [
    "data_fs"
   ]
  },
  {
   "cell_type": "markdown",
   "id": "8d9a96ae",
   "metadata": {},
   "source": [
    "## Nivel 1\n",
    "### - Ejercicio 1:\n",
    "Coge el conjunto de datos que quieras y realiza un pipeline y un gridsearch aplicando el algoritmo de Random Forest.\n",
    "> **Pipeline** : Aplicar secuencialmente una lista de transformaciones y un estimador final. Los pasos intermedios de la pipeline deben implementar métodos de ajuste y transformación y el estimador final solo necesita implementar el ajuste.\n",
    "\n",
    "Una vez realizado el pre-procesamiento de datos, se va a generar el modelo de ML, donde se utilizara el random forest regressor como es solicitado.\n",
    "- Primero se va a dividir los datos en test y train"
   ]
  },
  {
   "cell_type": "code",
   "execution_count": 14,
   "id": "681198c0",
   "metadata": {},
   "outputs": [
    {
     "data": {
      "text/plain": [
       "((800, 27), (200, 27), (800,), (200,))"
      ]
     },
     "execution_count": 14,
     "metadata": {},
     "output_type": "execute_result"
    }
   ],
   "source": [
    "#separate independent and target variable\n",
    "X=data_scale\n",
    "y=data_sample['ArrDelay']\n",
    "\n",
    "#split data into train and test\n",
    "X_train, X_test, y_train, y_test = train_test_split(X, y, test_size=0.2,random_state=0)\n",
    "\n",
    "# shape of train and test splits\n",
    "X_train.shape, X_test.shape, y_train.shape, y_test.shape"
   ]
  },
  {
   "cell_type": "markdown",
   "id": "ff610a67",
   "metadata": {},
   "source": [
    "- Segundo, se genera el modelo de regresion 'Random Forest' para revisar su rendimiento como predictor de los datos utilizando la metrica de RMSE \n",
    "> Root mean square error: es la raiz cuadrada del MSE"
   ]
  },
  {
   "cell_type": "code",
   "execution_count": 15,
   "id": "4abd1b49",
   "metadata": {},
   "outputs": [
    {
     "name": "stdout",
     "output_type": "stream",
     "text": [
      "RMSE on train data:  4.79\n",
      "RMSE on test data:  9.33\n"
     ]
    }
   ],
   "source": [
    "# create an object of the RandomForestRegressor\n",
    "model_RFR = RandomForestRegressor(max_depth=10)\n",
    "\n",
    "# fit the model with the training data\n",
    "model_RFR.fit(X_train, y_train)\n",
    "\n",
    "# predict the target on train and test data\n",
    "predict_train = model_RFR.predict(X_train)\n",
    "predict_test = model_RFR.predict(X_test)\n",
    "\n",
    "# Root Mean Squared Error on train and test data\n",
    "print('RMSE on train data: ', round(mean_squared_error(y_train, predict_train)**(0.5),2))\n",
    "print('RMSE on test data: ',  round(mean_squared_error(y_test, predict_test)**(0.5),2))"
   ]
  },
  {
   "cell_type": "markdown",
   "id": "bf17cfcb",
   "metadata": {},
   "source": [
    "### Feature importance\n",
    "Despues del procesamiento e ingenieria de datos tenemos 27 variables y puede que no todas sean de utilidad en la prediccion de la target varible. Por lo que, se va generar un nuevo modelo partiendo del top 5 de variables con mayor contribucion para la prediccion. Siguiendo el proceso conocido como feature importance. "
   ]
  },
  {
   "cell_type": "code",
   "execution_count": 16,
   "id": "94238fd0",
   "metadata": {},
   "outputs": [
    {
     "data": {
      "image/png": "[encoded data removed]",
      "text/plain": [
       "<Figure size 720x504 with 1 Axes>"
      ]
     },
     "metadata": {
      "needs_background": "light"
     },
     "output_type": "display_data"
    }
   ],
   "source": [
    "# plot the 5 most important features \n",
    "plt.figure(figsize=(10,7))\n",
    "feat_importances = pd.Series(model_RFR.feature_importances_, index = X_train.columns)\n",
    "feat_importances.nlargest(5).plot(kind='barh');"
   ]
  },
  {
   "cell_type": "markdown",
   "id": "43e65e6f",
   "metadata": {},
   "source": [
    "Ahora, hemos observado que las variables 'LateAircraftDelay', 'CarrierDelay', 'TaxiOut', 'NASDelay' y 'DepDelay' son las que presentan mayor importancia, asi que ahora se va a generar el modelo solo utilizando estas variables."
   ]
  },
  {
   "cell_type": "code",
   "execution_count": 17,
   "id": "e29aa32b",
   "metadata": {},
   "outputs": [
    {
     "name": "stdout",
     "output_type": "stream",
     "text": [
      "RMSE on train data:  4.2\n",
      "RMSE on test data:  8.68\n"
     ]
    }
   ],
   "source": [
    "# training data with 7 most important features\n",
    "train_x_if = X_train[['LateAircraftDelay',\n",
    "                     'CarrierDelay',\n",
    "                     'TaxiOut',\n",
    "                     'NASDelay',\n",
    "                     'DepDelay']]\n",
    "# test data with 7 most important features\n",
    "test_x_if = X_test[['LateAircraftDelay',\n",
    "                     'CarrierDelay',\n",
    "                     'TaxiOut',\n",
    "                     'NASDelay',\n",
    "                     'DepDelay']]\n",
    "\n",
    "# create an object of the RandfomForestRegressor Model\n",
    "model_RFR_with_if = RandomForestRegressor(max_depth=10,random_state=2)\n",
    "\n",
    "# fit the model with the training data\n",
    "model_RFR_with_if.fit(train_x_if, y_train)\n",
    "\n",
    "# predict the target on the training and test data\n",
    "predict_train_with_if = model_RFR_with_if.predict(train_x_if)\n",
    "predict_test_with_if = model_RFR_with_if.predict(test_x_if)\n",
    "\n",
    "# Root Mean Squared Error on the train and test data\n",
    "print('RMSE on train data: ', round(mean_squared_error(y_train, predict_train_with_if)**(0.5),2))\n",
    "print('RMSE on test data: ',  round(mean_squared_error(y_test, predict_test_with_if)**(0.5),2))"
   ]
  },
  {
   "cell_type": "markdown",
   "id": "2ddd7c98",
   "metadata": {},
   "source": [
    "Se observa que obtenemos unas metricas muy similares a pesar de la reduccion en la cantidad de variables utilizadas.\n",
    "___\n",
    "## Identificar las variables y el preprocesamiento de datos\n",
    "- 'ArrDelay': Contiene la hora en que llegaron los vuelos, no fue preprocesada\n",
    "- 'CRSDepTime': Hora prevista de salida. Fue estandarizada.\n",
    "- 'CarrierDelay': Retrasos en control de compañia aerea. Fue estandarizada.\n",
    "- 'TaxiOut':  taxi out time. Fue estandarizada.\n",
    "- 'NASDelay': Retrasos en control de National Airspace System (NAS). Fue estandarizada.\n",
    "- 'DepDelay': Retraso en la salida. Fue estandarizada.\n",
    "\n",
    "A partir de ellas se va a diseñar el modelo ML pipeline.\n",
    "\n",
    "___\n",
    "## Diseño de pipeline\n",
    "Ahora hacemos una lista de los pasos que van a realizarse por el pipeline\n",
    "1. Realizar preprocesamiento de datos y transformacion:\n",
    "> - Eliminar columnas no necesarias\n",
    "> - Remover datos faltantes\n",
    "> - Estandarizar los datos\n",
    "2. Crear un modelo para predecir el retraso de los vuelos"
   ]
  },
  {
   "cell_type": "code",
   "execution_count": 18,
   "id": "739c8359",
   "metadata": {},
   "outputs": [
    {
     "data": {
      "text/plain": [
       "((800, 27), (200, 27), (800,), (200,))"
      ]
     },
     "execution_count": 18,
     "metadata": {},
     "output_type": "execute_result"
    }
   ],
   "source": [
    "#separate independent and target variable\n",
    "X_pipe =data_sample.drop(columns=['ArrDelay'], axis=1)\n",
    "y_pipe =data_sample['ArrDelay']\n",
    "\n",
    "#split data into train and test\n",
    "X_p_train, X_p_test, y_p_train, y_p_test = train_test_split(X_pipe, y_pipe, test_size=0.2,random_state=42)\n",
    "\n",
    "# shape of train and test splits\n",
    "X_p_train.shape, X_p_test.shape, y_p_train.shape, y_p_test.shape"
   ]
  },
  {
   "cell_type": "code",
   "execution_count": 19,
   "id": "2712595d",
   "metadata": {},
   "outputs": [],
   "source": [
    "#function to drop unnecesary columns from the data\n",
    "class DropColumnsTransformer():\n",
    "    '''\n",
    "    Custom transformer that drops the column/s that is \n",
    "    passed as an argument to the data to be transformed\n",
    "    '''\n",
    "    def __init__(self, columns=None):\n",
    "        self.columns = list(columns)\n",
    "\n",
    "    def transform(self, X, **transform_params):\n",
    "        cpy_df = X.drop(self.columns, axis=1).copy()\n",
    "        return cpy_df\n",
    "\n",
    "    def fit(self, X, y=None, **fit_params):\n",
    "        return self"
   ]
  },
  {
   "cell_type": "markdown",
   "id": "7f006371",
   "metadata": {},
   "source": [
    "Al establecer los pasos a seguir en en el modelo de pipeline, se debe poner especial atencion a que el output de un proceso sera el input del siguiente, por lo cual el orden en que se establecen es importante"
   ]
  },
  {
   "cell_type": "code",
   "execution_count": 20,
   "id": "b3365435",
   "metadata": {
    "scrolled": true
   },
   "outputs": [
    {
     "data": {
      "text/plain": [
       "array([ 29.16, 245.31,  34.95,  27.26,  37.02,  18.78,  27.  , 101.01,\n",
       "        45.15,  22.67,  20.78, 127.04,  24.94, 166.71,  81.9 ,  17.64,\n",
       "        28.31,  30.93,  59.87,  89.03, 161.43, 191.37,  70.01,  22.97,\n",
       "        16.77,  40.37,  39.05, 100.48,  21.86,  21.32,  29.6 ,  20.19,\n",
       "        16.29,  15.25,  47.49,  20.06, 144.53, 144.11,  80.58,  36.57,\n",
       "       115.33,  67.56,  31.33, 104.57,  30.73, 215.52,  26.07,  83.18,\n",
       "        34.51,  55.17,  97.12,  22.35,  23.27,  19.23, 248.59,  38.17,\n",
       "        52.43,  51.07,  87.44,  86.62,  29.74,  22.94, 101.86,  73.05,\n",
       "        16.14,  90.2 ,  93.4 ,  20.79,  41.49, 110.46,  52.34,  42.71,\n",
       "       153.09,  25.57, 210.55,  25.56,  82.13,  78.28,  30.48,  34.57,\n",
       "        24.67,  23.64,  16.18,  64.04,  38.12, 134.57,  19.86,  69.31,\n",
       "        19.91,  18.01, 130.82,  22.31,  25.25,  86.24,  37.58,  55.3 ,\n",
       "        72.32,  43.31,  19.62, 144.3 , 112.94,  45.73,  34.25,  37.08,\n",
       "        15.89,  22.3 ,  19.88,  18.68,  93.83,  87.21,  90.93,  21.02,\n",
       "        51.78,  87.73,  21.81,  57.88, 189.23,  22.81,  26.67, 138.39,\n",
       "        59.99, 195.64,  50.41,  65.34,  23.95, 113.  , 112.34,  17.29,\n",
       "        22.16,  18.75,  27.68,  34.36,  17.81,  73.84,  28.65, 112.84,\n",
       "        24.39,  35.74,  17.79,  26.68,  29.15,  23.32,  20.84,  29.03,\n",
       "       135.65,  37.65, 128.65,  63.84,  26.24, 177.38, 155.57,  46.22,\n",
       "        19.39,  82.29,  16.12,  34.73,  38.87,  39.21,  72.01,  15.63,\n",
       "        40.15,  15.83,  30.11,  19.71,  16.64,  16.98, 111.75,  29.02,\n",
       "        46.07,  26.45,  72.05,  57.12,  27.49,  27.18,  60.59, 107.19,\n",
       "        30.84,  70.06,  22.29,  49.5 ,  16.12,  84.05,  88.75,  18.82,\n",
       "        43.02,  82.  , 163.7 ,  21.61,  27.93,  25.13,  60.74,  55.19,\n",
       "        64.97,  48.17,  17.28,  24.04,  37.45,  35.26,  22.5 ,  19.21,\n",
       "        79.35,  66.99,  28.39,  48.32, 132.89,  18.97,  65.67,  24.79,\n",
       "       125.01,  34.18, 130.62,  35.32,  19.48,  35.2 ,  33.47,  45.25,\n",
       "        18.61,  28.44,  19.83,  41.3 , 210.58, 127.96,  20.02, 261.67,\n",
       "        84.69,  89.34,  69.67,  31.82,  48.16,  33.14,  51.36, 184.96,\n",
       "       179.87,  56.92,  67.24,  65.5 ,  36.09, 134.02,  29.12,  22.15,\n",
       "        61.66,  98.14,  68.81,  73.95, 114.19,  83.54,  23.74,  29.63,\n",
       "        94.37, 109.2 ,  23.24,  52.39,  19.96,  16.29, 140.03,  37.85,\n",
       "        26.54,  60.53,  60.65, 152.03,  42.72,  28.86,  30.52,  40.22,\n",
       "       102.63,  26.84,  18.07,  21.15,  18.38,  46.91,  29.45,  31.46,\n",
       "       108.46, 164.63,  61.82, 138.26,  45.78, 149.32,  57.52, 138.25,\n",
       "        40.86,  21.3 ,  35.65,  18.44,  88.48,  51.98,  26.29, 137.22,\n",
       "        20.05,  25.15,  36.59,  91.82,  16.29, 125.74, 129.68,  27.44,\n",
       "        40.25,  20.46,  24.84,  19.25, 181.16,  36.07,  65.55,  62.75,\n",
       "        16.38,  83.44,  39.18,  62.26,  43.52,  37.45,  72.07,  51.3 ,\n",
       "        39.45,  42.24,  61.88, 182.07,  28.87, 116.03,  31.21,  76.31,\n",
       "       229.12,  37.83,  56.59,  62.4 ,  46.81,  16.98,  34.08, 107.77,\n",
       "        46.09,  40.59,  38.97,  58.77,  22.85, 156.02,  29.31,  26.43,\n",
       "        15.43,  26.93,  46.91,  24.44,  34.57,  38.03,  53.48, 124.13,\n",
       "        32.59,  23.6 ,  90.77,  49.81,  97.52, 131.26,  41.38,  80.57,\n",
       "        44.37,  15.48,  22.54,  35.42,  23.2 ,  34.88,  34.69,  46.83,\n",
       "        74.57, 164.92, 111.12,  38.96,  16.48, 103.8 ,  64.39,  84.  ,\n",
       "       149.23,  24.37,  39.93,  83.85,  57.41,  28.87, 118.67,  29.12,\n",
       "        46.37,  74.62,  55.62,  59.2 ,  18.1 ,  37.52,  32.68,  23.65,\n",
       "        27.07, 113.12,  44.14,  32.65,  38.14,  18.76,  38.55,  23.45,\n",
       "        23.56, 114.55,  76.76, 179.41,  23.18,  73.48,  49.48,  16.56,\n",
       "       186.74,  17.13,  42.08,  22.53,  61.08,  25.83,  25.32,  45.25,\n",
       "        22.76, 137.58,  94.09,  20.04,  66.83,  58.86,  53.57,  24.07,\n",
       "        38.79,  51.03, 392.82,  93.02,  34.43,  26.11, 220.49,  55.69,\n",
       "        50.56,  20.16,  58.53, 200.51,  17.89,  43.67,  78.73,  18.14,\n",
       "        23.24, 109.53,  45.12,  37.1 , 152.84,  18.2 ,  46.71, 143.22,\n",
       "        34.12,  92.83,  19.42,  56.66,  68.3 ,  43.84,  28.67,  24.96,\n",
       "        91.68,  22.03, 176.01,  28.89, 134.81,  39.89,  19.26,  16.13,\n",
       "        19.63,  31.57,  41.18,  92.65,  50.2 ,  37.93,  43.67,  32.29,\n",
       "        38.57,  35.71,  91.22,  40.09,  45.36,  44.05,  36.87,  58.4 ,\n",
       "        24.92,  22.54,  16.37, 106.89,  26.09,  83.58,  18.72, 103.61,\n",
       "        34.95,  39.15,  68.17,  23.79,  17.74,  41.37,  37.21,  76.29,\n",
       "        28.59,  21.47,  15.65,  51.2 ,  23.19,  85.6 ,  25.44,  17.05,\n",
       "        80.16,  32.75,  41.45,  47.12,  32.33,  62.54,  86.66,  25.13,\n",
       "        24.7 ,  34.19,  81.35,  55.19,  28.73,  23.07,  39.65,  31.01,\n",
       "        61.86, 190.29,  23.69, 170.16, 154.67,  95.75, 116.11, 210.49,\n",
       "       148.88, 127.22, 140.38,  23.06,  32.27,  81.5 ,  21.92,  49.29,\n",
       "       139.38,  41.68,  20.57, 143.64,  42.75, 116.23,  20.26,  32.27,\n",
       "        17.22,  86.12,  31.16,  20.72,  29.52,  37.2 , 178.43,  51.4 ,\n",
       "        46.19,  62.88,  21.63,  15.54,  43.58,  50.96,  15.96,  19.83,\n",
       "       130.76,  18.37,  95.54, 120.14,  74.9 ,  79.67,  20.13,  37.83,\n",
       "        46.4 ,  24.17,  36.85,  48.65,  15.91, 280.2 ,  51.82,  19.29,\n",
       "        40.52,  24.47,  21.83,  84.28, 114.99,  40.25,  40.61,  35.94,\n",
       "        39.85,  49.65,  50.19,  73.48,  30.42,  30.26,  93.26,  36.39,\n",
       "        20.35,  49.56, 157.97,  43.46,  37.08,  78.29,  96.05,  72.19,\n",
       "       153.08,  15.24, 128.92,  16.19,  36.14, 282.37,  45.68,  19.1 ,\n",
       "        28.54,  40.59,  28.15,  16.96,  17.97,  36.19,  91.95,  18.98,\n",
       "        17.08,  37.37,  42.63,  92.37,  36.79,  63.16,  23.34,  88.49,\n",
       "        16.7 , 217.93, 257.4 ,  77.19,  32.78, 132.08,  18.92,  16.07,\n",
       "        31.88,  23.27,  18.08,  23.07,  48.85,  22.06,  82.22,  60.74,\n",
       "        27.6 ,  56.16, 109.99,  17.67, 169.96,  57.28,  25.56,  20.88,\n",
       "        25.18,  59.18,  17.43, 125.94,  15.29,  68.08,  28.35,  87.41,\n",
       "        50.35,  24.29,  47.87,  28.94,  36.57,  63.97, 125.14,  27.25,\n",
       "        46.7 ,  64.41,  33.81,  19.91,  20.01,  38.77,  21.71,  55.04,\n",
       "        34.42,  17.44,  45.4 ,  80.73, 109.96,  26.1 ,  25.72,  69.37,\n",
       "        19.68,  46.23,  20.96,  34.52,  29.77,  22.74,  29.98,  18.21,\n",
       "       198.77,  23.65,  90.96,  22.69, 122.94,  22.51, 133.73, 129.76,\n",
       "        20.6 , 125.94,  23.5 ,  33.48,  89.11, 104.09,  79.26,  34.05,\n",
       "        31.86, 129.67,  49.45,  56.83,  86.48,  19.86,  16.91,  30.33,\n",
       "        53.08,  48.23,  18.97, 132.33,  81.94,  56.83,  76.42, 186.17,\n",
       "        79.01,  19.21,  37.64,  98.95,  33.39,  23.37,  66.77,  35.12,\n",
       "        94.44,  35.47,  24.55,  16.55,  93.97,  84.72,  37.75, 110.91,\n",
       "        15.31,  79.67,  85.  , 180.36, 131.97,  42.62,  58.76,  49.97,\n",
       "        44.26,  57.86,  59.91,  32.96,  54.79, 115.65,  24.78,  27.41,\n",
       "        18.26,  49.37,  38.87,  18.2 ,  33.83,  21.82, 143.42,  16.21,\n",
       "       286.29,  40.61,  56.7 ,  26.13,  69.91,  20.13, 124.49, 100.3 ,\n",
       "       303.95,  87.16,  33.73,  26.43,  19.01,  32.06,  94.79, 153.6 ,\n",
       "        20.38,  23.11,  17.24,  57.74,  46.68,  22.07,  35.54,  20.27,\n",
       "        24.15,  86.79,  51.89,  34.59, 175.16,  98.23,  40.36, 135.68,\n",
       "        51.89,  80.77,  66.38,  21.74,  43.12,  40.06,  29.15,  39.74,\n",
       "        33.93,  78.61,  24.11,  26.83, 113.2 ,  23.46,  41.38, 124.96])"
      ]
     },
     "execution_count": 20,
     "metadata": {},
     "output_type": "execute_result"
    }
   ],
   "source": [
    "#define model with the steps\n",
    "drop_columns= ['Year','Month','DayofMonth','DayOfWeek','Cancelled','CancellationCode','Diverted','DepTime','TaxiIn','Origin','Distance','Dest','FlightNum', 'CRSArrTime', 'UniqueCarrier','ActualElapsedTime', 'CRSElapsedTime', 'AirTime','WeatherDelay','SecurityDelay','CRSDepTime']\n",
    "\n",
    "model_pipeline = Pipeline(\n",
    "    steps = [\n",
    "        ('drop_columns', DropColumnsTransformer(drop_columns)),\n",
    "        ('scale_data', StandardScaler()),\n",
    "        ('regressor', RandomForestRegressor())\n",
    "    ]\n",
    ")\n",
    "\n",
    "# fit the pipeline with the training data\n",
    "model_pipeline.fit(X_p_train, y_p_train)\n",
    "\n",
    "# predict target values on the training data\n",
    "model_pipeline.predict(X_p_train)"
   ]
  },
  {
   "cell_type": "markdown",
   "id": "c24adbef",
   "metadata": {},
   "source": [
    "Visualizacion del modelo pipeline:"
   ]
  },
  {
   "cell_type": "code",
   "execution_count": 41,
   "id": "60ce1833",
   "metadata": {},
   "outputs": [
    {
     "data": {
      "text/html": [
       "<style>div.sk-top-container {color: black;background-color: white;}div.sk-toggleable {background-color: white;}label.sk-toggleable__label {cursor: pointer;display: block;width: 100%;margin-bottom: 0;padding: 0.2em 0.3em;box-sizing: border-box;text-align: center;}div.sk-toggleable__content {max-height: 0;max-width: 0;overflow: hidden;text-align: left;background-color: #f0f8ff;}div.sk-toggleable__content pre {margin: 0.2em;color: black;border-radius: 0.25em;background-color: #f0f8ff;}input.sk-toggleable__control:checked~div.sk-toggleable__content {max-height: 200px;max-width: 100%;overflow: auto;}div.sk-estimator input.sk-toggleable__control:checked~label.sk-toggleable__label {background-color: #d4ebff;}div.sk-label input.sk-toggleable__control:checked~label.sk-toggleable__label {background-color: #d4ebff;}input.sk-hidden--visually {border: 0;clip: rect(1px 1px 1px 1px);clip: rect(1px, 1px, 1px, 1px);height: 1px;margin: -1px;overflow: hidden;padding: 0;position: absolute;width: 1px;}div.sk-estimator {font-family: monospace;background-color: #f0f8ff;margin: 0.25em 0.25em;border: 1px dotted black;border-radius: 0.25em;box-sizing: border-box;}div.sk-estimator:hover {background-color: #d4ebff;}div.sk-parallel-item::after {content: \"\";width: 100%;border-bottom: 1px solid gray;flex-grow: 1;}div.sk-label:hover label.sk-toggleable__label {background-color: #d4ebff;}div.sk-serial::before {content: \"\";position: absolute;border-left: 1px solid gray;box-sizing: border-box;top: 2em;bottom: 0;left: 50%;}div.sk-serial {display: flex;flex-direction: column;align-items: center;background-color: white;}div.sk-item {z-index: 1;}div.sk-parallel {display: flex;align-items: stretch;justify-content: center;background-color: white;}div.sk-parallel-item {display: flex;flex-direction: column;position: relative;background-color: white;}div.sk-parallel-item:first-child::after {align-self: flex-end;width: 50%;}div.sk-parallel-item:last-child::after {align-self: flex-start;width: 50%;}div.sk-parallel-item:only-child::after {width: 0;}div.sk-dashed-wrapped {border: 1px dashed gray;margin: 0.2em;box-sizing: border-box;padding-bottom: 0.1em;background-color: white;position: relative;}div.sk-label label {font-family: monospace;font-weight: bold;background-color: white;display: inline-block;line-height: 1.2em;}div.sk-label-container {position: relative;z-index: 2;text-align: center;}div.sk-container {display: inline-block;position: relative;}</style><div class=\"sk-top-container\"><div class=\"sk-container\"><div class=\"sk-item sk-dashed-wrapped\"><div class=\"sk-label-container\"><div class=\"sk-label sk-toggleable\"><input class=\"sk-toggleable__control sk-hidden--visually\" id=\"4a47b2a7-22eb-4de0-a66c-bbf1dcc32266\" type=\"checkbox\" ><label class=\"sk-toggleable__label\" for=\"4a47b2a7-22eb-4de0-a66c-bbf1dcc32266\">Pipeline</label><div class=\"sk-toggleable__content\"><pre>Pipeline(steps=[('drop_columns',\n",
       "                 <__main__.DropColumnsTransformer object at 0x000002070268B970>),\n",
       "                ('scale_data', StandardScaler()),\n",
       "                ('regressor', RandomForestRegressor())])</pre></div></div></div><div class=\"sk-serial\"><div class=\"sk-item\"><div class=\"sk-estimator sk-toggleable\"><input class=\"sk-toggleable__control sk-hidden--visually\" id=\"3836a4f0-80bb-4060-81ed-e9f8905554a8\" type=\"checkbox\" ><label class=\"sk-toggleable__label\" for=\"3836a4f0-80bb-4060-81ed-e9f8905554a8\">DropColumnsTransformer</label><div class=\"sk-toggleable__content\"><pre><__main__.DropColumnsTransformer object at 0x000002070268B970></pre></div></div></div><div class=\"sk-item\"><div class=\"sk-estimator sk-toggleable\"><input class=\"sk-toggleable__control sk-hidden--visually\" id=\"16dd32e9-1b30-4d6f-9e76-898fe5266ff0\" type=\"checkbox\" ><label class=\"sk-toggleable__label\" for=\"16dd32e9-1b30-4d6f-9e76-898fe5266ff0\">StandardScaler</label><div class=\"sk-toggleable__content\"><pre>StandardScaler()</pre></div></div></div><div class=\"sk-item\"><div class=\"sk-estimator sk-toggleable\"><input class=\"sk-toggleable__control sk-hidden--visually\" id=\"2abac2ae-e8a3-43f7-b29b-0c655f5cec73\" type=\"checkbox\" ><label class=\"sk-toggleable__label\" for=\"2abac2ae-e8a3-43f7-b29b-0c655f5cec73\">RandomForestRegressor</label><div class=\"sk-toggleable__content\"><pre>RandomForestRegressor()</pre></div></div></div></div></div></div></div>"
      ],
      "text/plain": [
       "Pipeline(steps=[('drop_columns',\n",
       "                 <__main__.DropColumnsTransformer object at 0x000002070268B970>),\n",
       "                ('scale_data', StandardScaler()),\n",
       "                ('regressor', RandomForestRegressor())])"
      ]
     },
     "execution_count": 41,
     "metadata": {},
     "output_type": "execute_result"
    }
   ],
   "source": [
    "set_config(display='diagram')\n",
    "model_pipeline"
   ]
  },
  {
   "cell_type": "markdown",
   "id": "3c899620",
   "metadata": {},
   "source": [
    "Para ajustar el modelo de prediccion \"Random forest\" se va a realizar un gridsearch. El cual ayuda en la busqueda de la mejor estrategia para el modelo. \n",
    "<br>\n",
    "\n",
    "Primero, observamos los parametros disponibles:"
   ]
  },
  {
   "cell_type": "code",
   "execution_count": 25,
   "id": "f547adaa",
   "metadata": {},
   "outputs": [
    {
     "data": {
      "text/plain": [
       "['drop_columns',\n",
       " 'memory',\n",
       " 'regressor',\n",
       " 'regressor__bootstrap',\n",
       " 'regressor__ccp_alpha',\n",
       " 'regressor__criterion',\n",
       " 'regressor__max_depth',\n",
       " 'regressor__max_features',\n",
       " 'regressor__max_leaf_nodes',\n",
       " 'regressor__max_samples',\n",
       " 'regressor__min_impurity_decrease',\n",
       " 'regressor__min_impurity_split',\n",
       " 'regressor__min_samples_leaf',\n",
       " 'regressor__min_samples_split',\n",
       " 'regressor__min_weight_fraction_leaf',\n",
       " 'regressor__n_estimators',\n",
       " 'regressor__n_jobs',\n",
       " 'regressor__oob_score',\n",
       " 'regressor__random_state',\n",
       " 'regressor__verbose',\n",
       " 'regressor__warm_start',\n",
       " 'scale_data',\n",
       " 'scale_data__copy',\n",
       " 'scale_data__with_mean',\n",
       " 'scale_data__with_std',\n",
       " 'steps',\n",
       " 'verbose']"
      ]
     },
     "execution_count": 25,
     "metadata": {},
     "output_type": "execute_result"
    }
   ],
   "source": [
    "sorted(model_pipeline.get_params().keys())"
   ]
  },
  {
   "cell_type": "markdown",
   "id": "3feb4038",
   "metadata": {},
   "source": [
    "Y ahora establecemos el gridsearch con los parametros que son de interes y lo aplicamos al pipeline:"
   ]
  },
  {
   "cell_type": "code",
   "execution_count": 28,
   "id": "7615421b",
   "metadata": {
    "scrolled": true
   },
   "outputs": [
    {
     "name": "stdout",
     "output_type": "stream",
     "text": [
      "score = 0.95\n"
     ]
    }
   ],
   "source": [
    "#Grid search\n",
    "\n",
    "# Parameters combination (Random Forest)\n",
    "parameters = {\"regressor__n_estimators\": [1,10,20,50,75,200], \"regressor__min_samples_leaf\": range(1,10),'regressor__max_depth': [10,20,30,50]}\n",
    "\n",
    "# create and instantiate grid search\n",
    "grid = GridSearchCV(model_pipeline, parameters, cv=5)\n",
    "\n",
    "#fit the model\n",
    "grid.fit(X_p_train,y_p_train)\n"
   ]
  },
  {
   "cell_type": "markdown",
   "id": "cd89ef55",
   "metadata": {},
   "source": [
    "Por ultimo, se realiza un cross validation del modelo y se imprimen los parametros con mejor performance."
   ]
  },
  {
   "cell_type": "code",
   "execution_count": 32,
   "id": "3d40a453",
   "metadata": {
    "scrolled": true
   },
   "outputs": [
    {
     "name": "stdout",
     "output_type": "stream",
     "text": [
      "Best parameter (CV score=0.954):\n",
      "{'regressor__max_depth': 30, 'regressor__min_samples_leaf': 1, 'regressor__n_estimators': 50}\n"
     ]
    }
   ],
   "source": [
    "print(\"Best parameter (CV score=%0.3f):\" % grid.best_score_) #best score found during search\n",
    "print(grid.best_params_) #best combination of parameters"
   ]
  },
  {
   "cell_type": "markdown",
   "id": "f16c276f",
   "metadata": {},
   "source": [
    "Cross validation del modelo pipeline:\n",
    "\n",
    "*https://www.youtube.com/watch?v=f_xB7kbZR_g&ab_channel=DataSchool*"
   ]
  },
  {
   "cell_type": "code",
   "execution_count": 37,
   "id": "29796c38",
   "metadata": {
    "scrolled": true
   },
   "outputs": [
    {
     "name": "stdout",
     "output_type": "stream",
     "text": [
      "[0.96015944 0.96360876 0.89767889 0.96949704 0.96082693]\n"
     ]
    }
   ],
   "source": [
    "print(cross_val_score(grid, X_p_train, y_p_train, cv=5))"
   ]
  },
  {
   "cell_type": "code",
   "execution_count": 44,
   "id": "c071732c",
   "metadata": {},
   "outputs": [
    {
     "name": "stdout",
     "output_type": "stream",
     "text": [
      "0.95 accuracy with a standard deviation of 0.03\n"
     ]
    }
   ],
   "source": [
    "scores = cross_val_score(grid, X_p_train, y_p_train, cv=5)\n",
    "print(\"%0.2f accuracy with a standard deviation of %0.2f\" % (scores.mean(), scores.std()))"
   ]
  },
  {
   "cell_type": "markdown",
   "id": "306163e8",
   "metadata": {},
   "source": [
    "### - Ejercicio 2:\n",
    "Coge un texto en inglés que quieras, y calcula la frecuencia de las palabras.\n",
    "\n",
    "<br>\n",
    "Para el analisis del texto se ha seleccionado el discurso de aceptacion del premio Nobel de Malala"
   ]
  },
  {
   "cell_type": "code",
   "execution_count": 50,
   "id": "7b61ede4",
   "metadata": {},
   "outputs": [],
   "source": [
    "#save speech as a variable\n",
    "speech = \"'Bismillah hir rahman ir rahim. In the name of God, the most merciful, the most beneficent. Your Majesties, distinguished members of the Norweigan Nobel Committee, dear sisters and brothers, today is a day of great happiness for me. I am humbled that the Nobel Committee has selected me for this precious award. Thank you to everyone for your continued support and love. I am grateful for the letters and cards that I still receive from all around the world. Reading your kind and encouraging words strengthens and inspires me. I would like to thank my parents for their unconditional love. Thank you to my father for not clipping my wings and for letting me fly. Thank you to my mother for inspiring me to be patient and to always speak the truth- which we strongly believe is the real message of Islam. I am very proud to be the first Pashtun, the first Pakistani, and the first young person to receive this award.  I am pretty certain that I am also the first recipient of the Nobel Peace Prize who still fights with her younger brothers. I want there to be peace everywhere, but my brothers and I are still working on that. I am also honoured to receive this award together with Kailash Satyarti, who has been a champion of children's rights for a long time. Twice as long, in fact, than I have been alive. I am also glad that we can stand together and show the world that an Indian and a Pakistani can be united in peace and together  work for children's rights.Dear brothers and sisters, I was named after the inspirational Pashtun Joan of Arc, Malalai of Maiwand. The word Malala means grief stricken, sad, but in order to lend some happiness to it, my grandfather would always call me Malala - The happiest girl in this world and today I am very happy that we are standing together for an important cause. This award is not just for me. It is for those forgotten children who want education. It is for those frightened children who want peace. It is for those voiceless children who want change. I am here to stand up for their rights, raise their voice ... it is not time to pity them. It is time to take action so it becomes the last time that we see a child deprived of education. I have found that people describe me in many different ways. Some people call me the girl who was shot by the Taliban. And some, the girl who fought for her rights. Some people, call me a Nobel Laureate now. As far as I know, I am just a committed and stubborn person who wants to see every child getting quality education, who wants equal rights for women and who wants peace in every corner of the world. Education is one of the blessings of life-and one of its necessities. That has been my experience during the 17 years life. In my home in Swat Valley, in the north of Pakistan, I always loved school and learning new things. I remember when my friends and I would decorate our hands with henna for special occasions. Instead of drawing flowers and patterns we would paint our hands with mathematical formulas and equations. We had a thirst for education because our future was right there in that classroom. We would sit and read and learn together. We loved to wear neat and tidy school uniforms and we would sit there with big dreams in our eyes. We wanted to make our parents proud and prove that we could excel in our studies and achieve things, which some people think only boys can. Things did not remain the same. When I was ten, Swat, which was a place of beauty and tourism, suddenly changed into a place of terrorism. More than 400 schools were destroyed.  Girls were stopped from going to school. Women were flogged. Innocent people were killed. We all suffered. And our beautiful dreams turned into nightmares. Education went from being a right to being a crime. But when my world suddenly changed, my priorities changed too. I had two options, one was to remain silent and wait to be killed. And the second was to speak up and then be killed. I chose the second one. I decided to speak up. The terrorists tried to stop us and attacked me and my friends on 9th October 2012, but their bullets could not win. We survived. And since that day, our voices have only grown louder. I tell my story, not because it is unique, but because it is not. It is the story of many girls. Today, I tell their stories too. I have brought with me to Oslo, some of my sisters, who share this story, friends from Pakistan, Nigeria and Syria. My brave sisters Shazia and Kainat Riaz who were also shot that day in Swat with me. They went through a tragic trauma too. Also my sister Kainat Somro from Pakistan who suffered extreme violence and abuse, even her brother was killed, but she did not succumb. And there are girls with me, who I have met during my Malala Fund campaign, who are now like my sisters, my courageous 16 year old sister Mezon from Syria, who now lives in Jordan in a refugee camp and goes from tent to tent helping girls and boys to learn. And my sister Amina, from the North of Nigeria, where Boko Haram threatens and kidnaps girls, simply for wanting to go to school. Though I appear as one girl, one person, who is 5 foot 2 inches tall, if you include my high heels. I am not a lone voice, I am many. I am Shazia. I am Kainat Riaz. I am Kainat Somro. I am Mezon. I am Amina. I am those 66 million girls who are out of school. People like to ask me why education is important especially for girls. My answer is always the same. What I have learnt from the first two chapters of the Holy Quran, is the word Iqra, which means read, and the word, nun wal-qalam which means by the pen? And therefore as I said last year at the United Nations, One child, one teacher, one pen and one book can change the world. Today, in half of the world, we see rapid progress, modernisation and development. However, there are countries where millions still suffer from the very old problems of hunger, poverty, injustice and conflicts. Indeed, we are reminded in 2014 that a century has passed since the beginning of the First World War, but we still have not learnt all of the lessons that arose from the loss of those millions of lives a hundred years ago. There are still conflicts in which hundreds of thousands of innocent people have lost their lives. Many families have become refugees in Syria, Gaza and Iraq. There are still girls who have no freedom to go to school in the north of Nigeria. In Pakistan and Afghanistan we see innocent people being killed in suicide attacks and bomb blasts. Many children in Africa do not have access to school because of poverty. Many children in India and Pakistan are deprived of their right to education because of social taboos, or they have been forced into child labour and girls into child marriages. One of my very good school friends, the same age as me,  had always been a bold and confident girl and dreamed of becoming a doctor. But her dream remained a dream. At age of 12, she was forced to get married and then soon had a son at an age when she herself was a child - only 14. I know that my friend would have been a very good doctor. But she could not ... because she was a girl. Her story is why I dedicate the Nobel Prize money to the Malala Fund, to help give girls everywhere a quality education and call on leaders to help girls like me, Mezun and Amina.  The first place this funding will go is where my heart is, to build schools in Pakistan-especially in my home of Swat and Shangla. In my own village, there is still no secondary school for girls. I want to build one, so my friends can get an education-and the opportunity it brings to fulfil their dreams. That is where I will begin, but it is not where I will stop. I will continue this fight until I see every child in school. I feel much stronger after the attack that I endured, because I know, no one can stop me, or stop us, because now we are millions, standing up together. Dear brothers and sisters, great people,who brought change, like Martin Luther King and Nelson Mandela, Mother Teresa and Aung San Suu Kyi, they once stood here on this stage. I hope the steps that Kailash Satyarti and I have taken so far and will take on this journey will also bring change - lasting change. My great hope is that this will be the last time we must fight for the education of our children. We want everyone to unite to support us in our campaign so that we can solve this once and for all. Like I said, we have already taken many steps in the right direction. Now is the time to take a leap. It is not time to tell the leaders to realise how important education is - they already know it - their own children are in good schools. Now it is time to call them to take action. We ask the world leaders to unite and make education their top priority. Fifteen years ago, the world leaders decided on a set of global goals, the Millennium Development Goals.  In the years that have followed, we have seen some progress. The number of children out of school has been halved.  However, the world focused only on expanding primary education, and progress did not reach everyone. Next year, in 2015, representatives from around the world will meet at the United Nations to decide on the next set of goals, the Sustainable Development Goals. This will set the world's ambition for generations to come. Leaders must seize this opportunity to guarantee a free, quality primary and secondary education for every child. Some will say this is impractical, or too expensive, or too hard.  Or even impossible.  But it is time the world thinks bigger. Dear brothers and sisters, the so-called world of adults may understand it, but we children don't. Why is it that countries which we call strong are so powerful in creating wars but so weak in bringing peace? Why is it that giving guns is so easy but giving books is so hard? Why is it that making tanks is so easy, but building schools is so difficult? As we are living in the modern age, the 21st century and we all believe that nothing is impossible. We can reach the moon and maybe soon will land on Mars. Then, in this, the 21st century, we must be determined that our dream of quality education for all will also come true. So let us bring equality, justice and peace for all. Not just the politicians and the world leaders, we all need to contribute.  Me. You. It is our duty. So we must work ... and not wait. I call upon my fellow children to stand up around the world. Dear sisters and brothers, let us become the first generation to decide to be the last. The empty classrooms, the lost childhoods, wasted potential-let these things end with us. Let this be the last time that a boy or a girl spends their childhood in a factory. Let this be the last time that a girl gets forced into early child marriage. Let this be the last time that an innocent child loses their life in war. Let this be the last time that a classroom remains empty. Let this be the last time that a girl is told education is a crime and not a right. Let this be the last time that a child remains out of school. Let us begin this ending. Let this end with us. And let us build a better future right here, right now. Thank you.'\""
   ]
  },
  {
   "cell_type": "markdown",
   "id": "c8951d20",
   "metadata": {},
   "source": [
    "Primer paso **Word Tokenization**: dividide el texto por palabras"
   ]
  },
  {
   "cell_type": "code",
   "execution_count": 54,
   "id": "1bf7677b",
   "metadata": {
    "scrolled": true
   },
   "outputs": [
    {
     "name": "stdout",
     "output_type": "stream",
     "text": [
      "[\"'Bismillah\", 'hir', 'rahman', 'ir', 'rahim', '.', 'In', 'the', 'name', 'of', 'God', ',', 'the', 'most', 'merciful', ',', 'the', 'most', 'beneficent', '.', 'Your', 'Majesties', ',', 'distinguished', 'members', 'of', 'the', 'Norweigan', 'Nobel', 'Committee', ',', 'dear', 'sisters', 'and', 'brothers', ',', 'today', 'is', 'a', 'day', 'of', 'great', 'happiness', 'for', 'me', '.', 'I', 'am', 'humbled', 'that', 'the', 'Nobel', 'Committee', 'has', 'selected', 'me', 'for', 'this', 'precious', 'award', '.', 'Thank', 'you', 'to', 'everyone', 'for', 'your', 'continued', 'support', 'and', 'love', '.', 'I', 'am', 'grateful', 'for', 'the', 'letters', 'and', 'cards', 'that', 'I', 'still', 'receive', 'from', 'all', 'around', 'the', 'world', '.', 'Reading', 'your', 'kind', 'and', 'encouraging', 'words', 'strengthens', 'and', 'inspires', 'me', '.', 'I', 'would', 'like', 'to', 'thank', 'my', 'parents', 'for', 'their', 'unconditional', 'love', '.', 'Thank', 'you', 'to', 'my', 'father', 'for', 'not', 'clipping', 'my', 'wings', 'and', 'for', 'letting', 'me', 'fly', '.', 'Thank', 'you', 'to', 'my', 'mother', 'for', 'inspiring', 'me', 'to', 'be', 'patient', 'and', 'to', 'always', 'speak', 'the', 'truth-', 'which', 'we', 'strongly', 'believe', 'is', 'the', 'real', 'message', 'of', 'Islam', '.', 'I', 'am', 'very', 'proud', 'to', 'be', 'the', 'first', 'Pashtun', ',', 'the', 'first', 'Pakistani', ',', 'and', 'the', 'first', 'young', 'person', 'to', 'receive', 'this', 'award', '.', 'I', 'am', 'pretty', 'certain', 'that', 'I', 'am', 'also', 'the', 'first', 'recipient', 'of', 'the', 'Nobel', 'Peace', 'Prize', 'who', 'still', 'fights', 'with', 'her', 'younger', 'brothers', '.', 'I', 'want', 'there', 'to', 'be', 'peace', 'everywhere', ',', 'but', 'my', 'brothers', 'and', 'I', 'are', 'still', 'working', 'on', 'that', '.', 'I', 'am', 'also', 'honoured', 'to', 'receive', 'this', 'award', 'together', 'with', 'Kailash', 'Satyarti', ',', 'who', 'has', 'been', 'a', 'champion', 'of', 'children', \"'s\", 'rights', 'for', 'a', 'long', 'time', '.', 'Twice', 'as', 'long', ',', 'in', 'fact', ',', 'than', 'I', 'have', 'been', 'alive', '.', 'I', 'am', 'also', 'glad', 'that', 'we', 'can', 'stand', 'together', 'and', 'show', 'the', 'world', 'that', 'an', 'Indian', 'and', 'a', 'Pakistani', 'can', 'be', 'united', 'in', 'peace', 'and', 'together', 'work', 'for', 'children', \"'s\", 'rights.Dear', 'brothers', 'and', 'sisters', ',', 'I', 'was', 'named', 'after', 'the', 'inspirational', 'Pashtun', 'Joan', 'of', 'Arc', ',', 'Malalai', 'of', 'Maiwand', '.', 'The', 'word', 'Malala', 'means', 'grief', 'stricken', ',', 'sad', ',', 'but', 'in', 'order', 'to', 'lend', 'some', 'happiness', 'to', 'it', ',', 'my', 'grandfather', 'would', 'always', 'call', 'me', 'Malala', '-', 'The', 'happiest', 'girl', 'in', 'this', 'world', 'and', 'today', 'I', 'am', 'very', 'happy', 'that', 'we', 'are', 'standing', 'together', 'for', 'an', 'important', 'cause', '.', 'This', 'award', 'is', 'not', 'just', 'for', 'me', '.', 'It', 'is', 'for', 'those', 'forgotten', 'children', 'who', 'want', 'education', '.', 'It', 'is', 'for', 'those', 'frightened', 'children', 'who', 'want', 'peace', '.', 'It', 'is', 'for', 'those', 'voiceless', 'children', 'who', 'want', 'change', '.', 'I', 'am', 'here', 'to', 'stand', 'up', 'for', 'their', 'rights', ',', 'raise', 'their', 'voice', '...', 'it', 'is', 'not', 'time', 'to', 'pity', 'them', '.', 'It', 'is', 'time', 'to', 'take', 'action', 'so', 'it', 'becomes', 'the', 'last', 'time', 'that', 'we', 'see', 'a', 'child', 'deprived', 'of', 'education', '.', 'I', 'have', 'found', 'that', 'people', 'describe', 'me', 'in', 'many', 'different', 'ways', '.', 'Some', 'people', 'call', 'me', 'the', 'girl', 'who', 'was', 'shot', 'by', 'the', 'Taliban', '.', 'And', 'some', ',', 'the', 'girl', 'who', 'fought', 'for', 'her', 'rights', '.', 'Some', 'people', ',', 'call', 'me', 'a', 'Nobel', 'Laureate', 'now', '.', 'As', 'far', 'as', 'I', 'know', ',', 'I', 'am', 'just', 'a', 'committed', 'and', 'stubborn', 'person', 'who', 'wants', 'to', 'see', 'every', 'child', 'getting', 'quality', 'education', ',', 'who', 'wants', 'equal', 'rights', 'for', 'women', 'and', 'who', 'wants', 'peace', 'in', 'every', 'corner', 'of', 'the', 'world', '.', 'Education', 'is', 'one', 'of', 'the', 'blessings', 'of', 'life-and', 'one', 'of', 'its', 'necessities', '.', 'That', 'has', 'been', 'my', 'experience', 'during', 'the', '17', 'years', 'life', '.', 'In', 'my', 'home', 'in', 'Swat', 'Valley', ',', 'in', 'the', 'north', 'of', 'Pakistan', ',', 'I', 'always', 'loved', 'school', 'and', 'learning', 'new', 'things', '.', 'I', 'remember', 'when', 'my', 'friends', 'and', 'I', 'would', 'decorate', 'our', 'hands', 'with', 'henna', 'for', 'special', 'occasions', '.', 'Instead', 'of', 'drawing', 'flowers', 'and', 'patterns', 'we', 'would', 'paint', 'our', 'hands', 'with', 'mathematical', 'formulas', 'and', 'equations', '.', 'We', 'had', 'a', 'thirst', 'for', 'education', 'because', 'our', 'future', 'was', 'right', 'there', 'in', 'that', 'classroom', '.', 'We', 'would', 'sit', 'and', 'read', 'and', 'learn', 'together', '.', 'We', 'loved', 'to', 'wear', 'neat', 'and', 'tidy', 'school', 'uniforms', 'and', 'we', 'would', 'sit', 'there', 'with', 'big', 'dreams', 'in', 'our', 'eyes', '.', 'We', 'wanted', 'to', 'make', 'our', 'parents', 'proud', 'and', 'prove', 'that', 'we', 'could', 'excel', 'in', 'our', 'studies', 'and', 'achieve', 'things', ',', 'which', 'some', 'people', 'think', 'only', 'boys', 'can', '.', 'Things', 'did', 'not', 'remain', 'the', 'same', '.', 'When', 'I', 'was', 'ten', ',', 'Swat', ',', 'which', 'was', 'a', 'place', 'of', 'beauty', 'and', 'tourism', ',', 'suddenly', 'changed', 'into', 'a', 'place', 'of', 'terrorism', '.', 'More', 'than', '400', 'schools', 'were', 'destroyed', '.', 'Girls', 'were', 'stopped', 'from', 'going', 'to', 'school', '.', 'Women', 'were', 'flogged', '.', 'Innocent', 'people', 'were', 'killed', '.', 'We', 'all', 'suffered', '.', 'And', 'our', 'beautiful', 'dreams', 'turned', 'into', 'nightmares', '.', 'Education', 'went', 'from', 'being', 'a', 'right', 'to', 'being', 'a', 'crime', '.', 'But', 'when', 'my', 'world', 'suddenly', 'changed', ',', 'my', 'priorities', 'changed', 'too', '.', 'I', 'had', 'two', 'options', ',', 'one', 'was', 'to', 'remain', 'silent', 'and', 'wait', 'to', 'be', 'killed', '.', 'And', 'the', 'second', 'was', 'to', 'speak', 'up', 'and', 'then', 'be', 'killed', '.', 'I', 'chose', 'the', 'second', 'one', '.', 'I', 'decided', 'to', 'speak', 'up', '.', 'The', 'terrorists', 'tried', 'to', 'stop', 'us', 'and', 'attacked', 'me', 'and', 'my', 'friends', 'on', '9th', 'October', '2012', ',', 'but', 'their', 'bullets', 'could', 'not', 'win', '.', 'We', 'survived', '.', 'And', 'since', 'that', 'day', ',', 'our', 'voices', 'have', 'only', 'grown', 'louder', '.', 'I', 'tell', 'my', 'story', ',', 'not', 'because', 'it', 'is', 'unique', ',', 'but', 'because', 'it', 'is', 'not', '.', 'It', 'is', 'the', 'story', 'of', 'many', 'girls', '.', 'Today', ',', 'I', 'tell', 'their', 'stories', 'too', '.', 'I', 'have', 'brought', 'with', 'me', 'to', 'Oslo', ',', 'some', 'of', 'my', 'sisters', ',', 'who', 'share', 'this', 'story', ',', 'friends', 'from', 'Pakistan', ',', 'Nigeria', 'and', 'Syria', '.', 'My', 'brave', 'sisters', 'Shazia', 'and', 'Kainat', 'Riaz', 'who', 'were', 'also', 'shot', 'that', 'day', 'in', 'Swat', 'with', 'me', '.', 'They', 'went', 'through', 'a', 'tragic', 'trauma', 'too', '.', 'Also', 'my', 'sister', 'Kainat', 'Somro', 'from', 'Pakistan', 'who', 'suffered', 'extreme', 'violence', 'and', 'abuse', ',', 'even', 'her', 'brother', 'was', 'killed', ',', 'but', 'she', 'did', 'not', 'succumb', '.', 'And', 'there', 'are', 'girls', 'with', 'me', ',', 'who', 'I', 'have', 'met', 'during', 'my', 'Malala', 'Fund', 'campaign', ',', 'who', 'are', 'now', 'like', 'my', 'sisters', ',', 'my', 'courageous', '16', 'year', 'old', 'sister', 'Mezon', 'from', 'Syria', ',', 'who', 'now', 'lives', 'in', 'Jordan', 'in', 'a', 'refugee', 'camp', 'and', 'goes', 'from', 'tent', 'to', 'tent', 'helping', 'girls', 'and', 'boys', 'to', 'learn', '.', 'And', 'my', 'sister', 'Amina', ',', 'from', 'the', 'North', 'of', 'Nigeria', ',', 'where', 'Boko', 'Haram', 'threatens', 'and', 'kidnaps', 'girls', ',', 'simply', 'for', 'wanting', 'to', 'go', 'to', 'school', '.', 'Though', 'I', 'appear', 'as', 'one', 'girl', ',', 'one', 'person', ',', 'who', 'is', '5', 'foot', '2', 'inches', 'tall', ',', 'if', 'you', 'include', 'my', 'high', 'heels', '.', 'I', 'am', 'not', 'a', 'lone', 'voice', ',', 'I', 'am', 'many', '.', 'I', 'am', 'Shazia', '.', 'I', 'am', 'Kainat', 'Riaz', '.', 'I', 'am', 'Kainat', 'Somro', '.', 'I', 'am', 'Mezon', '.', 'I', 'am', 'Amina', '.', 'I', 'am', 'those', '66', 'million', 'girls', 'who', 'are', 'out', 'of', 'school', '.', 'People', 'like', 'to', 'ask', 'me', 'why', 'education', 'is', 'important', 'especially', 'for', 'girls', '.', 'My', 'answer', 'is', 'always', 'the', 'same', '.', 'What', 'I', 'have', 'learnt', 'from', 'the', 'first', 'two', 'chapters', 'of', 'the', 'Holy', 'Quran', ',', 'is', 'the', 'word', 'Iqra', ',', 'which', 'means', 'read', ',', 'and', 'the', 'word', ',', 'nun', 'wal-qalam', 'which', 'means', 'by', 'the', 'pen', '?', 'And', 'therefore', 'as', 'I', 'said', 'last', 'year', 'at', 'the', 'United', 'Nations', ',', 'One', 'child', ',', 'one', 'teacher', ',', 'one', 'pen', 'and', 'one', 'book', 'can', 'change', 'the', 'world', '.', 'Today', ',', 'in', 'half', 'of', 'the', 'world', ',', 'we', 'see', 'rapid', 'progress', ',', 'modernisation', 'and', 'development', '.', 'However', ',', 'there', 'are', 'countries', 'where', 'millions', 'still', 'suffer', 'from', 'the', 'very', 'old', 'problems', 'of', 'hunger', ',', 'poverty', ',', 'injustice', 'and', 'conflicts', '.', 'Indeed', ',', 'we', 'are', 'reminded', 'in', '2014', 'that', 'a', 'century', 'has', 'passed', 'since', 'the', 'beginning', 'of', 'the', 'First', 'World', 'War', ',', 'but', 'we', 'still', 'have', 'not', 'learnt', 'all', 'of', 'the', 'lessons', 'that', 'arose', 'from', 'the', 'loss', 'of', 'those', 'millions', 'of', 'lives', 'a', 'hundred', 'years', 'ago', '.', 'There', 'are', 'still', 'conflicts', 'in', 'which', 'hundreds', 'of', 'thousands', 'of', 'innocent', 'people', 'have', 'lost', 'their', 'lives', '.', 'Many', 'families', 'have', 'become', 'refugees', 'in', 'Syria', ',', 'Gaza', 'and', 'Iraq', '.', 'There', 'are', 'still', 'girls', 'who', 'have', 'no', 'freedom', 'to', 'go', 'to', 'school', 'in', 'the', 'north', 'of', 'Nigeria', '.', 'In', 'Pakistan', 'and', 'Afghanistan', 'we', 'see', 'innocent', 'people', 'being', 'killed', 'in', 'suicide', 'attacks', 'and', 'bomb', 'blasts', '.', 'Many', 'children', 'in', 'Africa', 'do', 'not', 'have', 'access', 'to', 'school', 'because', 'of', 'poverty', '.', 'Many', 'children', 'in', 'India', 'and', 'Pakistan', 'are', 'deprived', 'of', 'their', 'right', 'to', 'education', 'because', 'of', 'social', 'taboos', ',', 'or', 'they', 'have', 'been', 'forced', 'into', 'child', 'labour', 'and', 'girls', 'into', 'child', 'marriages', '.', 'One', 'of', 'my', 'very', 'good', 'school', 'friends', ',', 'the', 'same', 'age', 'as', 'me', ',', 'had', 'always', 'been', 'a', 'bold', 'and', 'confident', 'girl', 'and', 'dreamed', 'of', 'becoming', 'a', 'doctor', '.', 'But', 'her', 'dream', 'remained', 'a', 'dream', '.', 'At', 'age', 'of', '12', ',', 'she', 'was', 'forced', 'to', 'get', 'married', 'and', 'then', 'soon', 'had', 'a', 'son', 'at', 'an', 'age', 'when', 'she', 'herself', 'was', 'a', 'child', '-', 'only', '14', '.', 'I', 'know', 'that', 'my', 'friend', 'would', 'have', 'been', 'a', 'very', 'good', 'doctor', '.', 'But', 'she', 'could', 'not', '...', 'because', 'she', 'was', 'a', 'girl', '.', 'Her', 'story', 'is', 'why', 'I', 'dedicate', 'the', 'Nobel', 'Prize', 'money', 'to', 'the', 'Malala', 'Fund', ',', 'to', 'help', 'give', 'girls', 'everywhere', 'a', 'quality', 'education', 'and', 'call', 'on', 'leaders', 'to', 'help', 'girls', 'like', 'me', ',', 'Mezun', 'and', 'Amina', '.', 'The', 'first', 'place', 'this', 'funding', 'will', 'go', 'is', 'where', 'my', 'heart', 'is', ',', 'to', 'build', 'schools', 'in', 'Pakistan-especially', 'in', 'my', 'home', 'of', 'Swat', 'and', 'Shangla', '.', 'In', 'my', 'own', 'village', ',', 'there', 'is', 'still', 'no', 'secondary', 'school', 'for', 'girls', '.', 'I', 'want', 'to', 'build', 'one', ',', 'so', 'my', 'friends', 'can', 'get', 'an', 'education-and', 'the', 'opportunity', 'it', 'brings', 'to', 'fulfil', 'their', 'dreams', '.', 'That', 'is', 'where', 'I', 'will', 'begin', ',', 'but', 'it', 'is', 'not', 'where', 'I', 'will', 'stop', '.', 'I', 'will', 'continue', 'this', 'fight', 'until', 'I', 'see', 'every', 'child', 'in', 'school', '.', 'I', 'feel', 'much', 'stronger', 'after', 'the', 'attack', 'that', 'I', 'endured', ',', 'because', 'I', 'know', ',', 'no', 'one', 'can', 'stop', 'me', ',', 'or', 'stop', 'us', ',', 'because', 'now', 'we', 'are', 'millions', ',', 'standing', 'up', 'together', '.', 'Dear', 'brothers', 'and', 'sisters', ',', 'great', 'people', ',', 'who', 'brought', 'change', ',', 'like', 'Martin', 'Luther', 'King', 'and', 'Nelson', 'Mandela', ',', 'Mother', 'Teresa', 'and', 'Aung', 'San', 'Suu', 'Kyi', ',', 'they', 'once', 'stood', 'here', 'on', 'this', 'stage', '.', 'I', 'hope', 'the', 'steps', 'that', 'Kailash', 'Satyarti', 'and', 'I', 'have', 'taken', 'so', 'far', 'and', 'will', 'take', 'on', 'this', 'journey', 'will', 'also', 'bring', 'change', '-', 'lasting', 'change', '.', 'My', 'great', 'hope', 'is', 'that', 'this', 'will', 'be', 'the', 'last', 'time', 'we', 'must', 'fight', 'for', 'the', 'education', 'of', 'our', 'children', '.', 'We', 'want', 'everyone', 'to', 'unite', 'to', 'support', 'us', 'in', 'our', 'campaign', 'so', 'that', 'we', 'can', 'solve', 'this', 'once', 'and', 'for', 'all', '.', 'Like', 'I', 'said', ',', 'we', 'have', 'already', 'taken', 'many', 'steps', 'in', 'the', 'right', 'direction', '.', 'Now', 'is', 'the', 'time', 'to', 'take', 'a', 'leap', '.', 'It', 'is', 'not', 'time', 'to', 'tell', 'the', 'leaders', 'to', 'realise', 'how', 'important', 'education', 'is', '-', 'they', 'already', 'know', 'it', '-', 'their', 'own', 'children', 'are', 'in', 'good', 'schools', '.', 'Now', 'it', 'is', 'time', 'to', 'call', 'them', 'to', 'take', 'action', '.', 'We', 'ask', 'the', 'world', 'leaders', 'to', 'unite', 'and', 'make', 'education', 'their', 'top', 'priority', '.', 'Fifteen', 'years', 'ago', ',', 'the', 'world', 'leaders', 'decided', 'on', 'a', 'set', 'of', 'global', 'goals', ',', 'the', 'Millennium', 'Development', 'Goals', '.', 'In', 'the', 'years', 'that', 'have', 'followed', ',', 'we', 'have', 'seen', 'some', 'progress', '.', 'The', 'number', 'of', 'children', 'out', 'of', 'school', 'has', 'been', 'halved', '.', 'However', ',', 'the', 'world', 'focused', 'only', 'on', 'expanding', 'primary', 'education', ',', 'and', 'progress', 'did', 'not', 'reach', 'everyone', '.', 'Next', 'year', ',', 'in', '2015', ',', 'representatives', 'from', 'around', 'the', 'world', 'will', 'meet', 'at', 'the', 'United', 'Nations', 'to', 'decide', 'on', 'the', 'next', 'set', 'of', 'goals', ',', 'the', 'Sustainable', 'Development', 'Goals', '.', 'This', 'will', 'set', 'the', 'world', \"'s\", 'ambition', 'for', 'generations', 'to', 'come', '.', 'Leaders', 'must', 'seize', 'this', 'opportunity', 'to', 'guarantee', 'a', 'free', ',', 'quality', 'primary', 'and', 'secondary', 'education', 'for', 'every', 'child', '.', 'Some', 'will', 'say', 'this', 'is', 'impractical', ',', 'or', 'too', 'expensive', ',', 'or', 'too', 'hard', '.', 'Or', 'even', 'impossible', '.', 'But', 'it', 'is', 'time', 'the', 'world', 'thinks', 'bigger', '.', 'Dear', 'brothers', 'and', 'sisters', ',', 'the', 'so-called', 'world', 'of', 'adults', 'may', 'understand', 'it', ',', 'but', 'we', 'children', 'do', \"n't\", '.', 'Why', 'is', 'it', 'that', 'countries', 'which', 'we', 'call', 'strong', 'are', 'so', 'powerful', 'in', 'creating', 'wars', 'but', 'so', 'weak', 'in', 'bringing', 'peace', '?', 'Why', 'is', 'it', 'that', 'giving', 'guns', 'is', 'so', 'easy', 'but', 'giving', 'books', 'is', 'so', 'hard', '?', 'Why', 'is', 'it', 'that', 'making', 'tanks', 'is', 'so', 'easy', ',', 'but', 'building', 'schools', 'is', 'so', 'difficult', '?', 'As', 'we', 'are', 'living', 'in', 'the', 'modern', 'age', ',', 'the', '21st', 'century', 'and', 'we', 'all', 'believe', 'that', 'nothing', 'is', 'impossible', '.', 'We', 'can', 'reach', 'the', 'moon', 'and', 'maybe', 'soon', 'will', 'land', 'on', 'Mars', '.', 'Then', ',', 'in', 'this', ',', 'the', '21st', 'century', ',', 'we', 'must', 'be', 'determined', 'that', 'our', 'dream', 'of', 'quality', 'education', 'for', 'all', 'will', 'also', 'come', 'true', '.', 'So', 'let', 'us', 'bring', 'equality', ',', 'justice', 'and', 'peace', 'for', 'all', '.', 'Not', 'just', 'the', 'politicians', 'and', 'the', 'world', 'leaders', ',', 'we', 'all', 'need', 'to', 'contribute', '.', 'Me', '.', 'You', '.', 'It', 'is', 'our', 'duty', '.', 'So', 'we', 'must', 'work', '...', 'and', 'not', 'wait', '.', 'I', 'call', 'upon', 'my', 'fellow', 'children', 'to', 'stand', 'up', 'around', 'the', 'world', '.', 'Dear', 'sisters', 'and', 'brothers', ',', 'let', 'us', 'become', 'the', 'first', 'generation', 'to', 'decide', 'to', 'be', 'the', 'last', '.', 'The', 'empty', 'classrooms', ',', 'the', 'lost', 'childhoods', ',', 'wasted', 'potential-let', 'these', 'things', 'end', 'with', 'us', '.', 'Let', 'this', 'be', 'the', 'last', 'time', 'that', 'a', 'boy', 'or', 'a', 'girl', 'spends', 'their', 'childhood', 'in', 'a', 'factory', '.', 'Let', 'this', 'be', 'the', 'last', 'time', 'that', 'a', 'girl', 'gets', 'forced', 'into', 'early', 'child', 'marriage', '.', 'Let', 'this', 'be', 'the', 'last', 'time', 'that', 'an', 'innocent', 'child', 'loses', 'their', 'life', 'in', 'war', '.', 'Let', 'this', 'be', 'the', 'last', 'time', 'that', 'a', 'classroom', 'remains', 'empty', '.', 'Let', 'this', 'be', 'the', 'last', 'time', 'that', 'a', 'girl', 'is', 'told', 'education', 'is', 'a', 'crime', 'and', 'not', 'a', 'right', '.', 'Let', 'this', 'be', 'the', 'last', 'time', 'that', 'a', 'child', 'remains', 'out', 'of', 'school', '.', 'Let', 'us', 'begin', 'this', 'ending', '.', 'Let', 'this', 'end', 'with', 'us', '.', 'And', 'let', 'us', 'build', 'a', 'better', 'future', 'right', 'here', ',', 'right', 'now', '.', 'Thank', 'you', '.', \"'\"]\n"
     ]
    }
   ],
   "source": [
    "tokenized_word=word_tokenize(speech)\n",
    "print(tokenized_word)"
   ]
  },
  {
   "cell_type": "markdown",
   "id": "dca831cc",
   "metadata": {},
   "source": [
    "Segundo paso: Eliminar los simbolos de puntuacion innecesarios ('.',',',etc)"
   ]
  },
  {
   "cell_type": "code",
   "execution_count": 60,
   "id": "64601f5b",
   "metadata": {},
   "outputs": [
    {
     "data": {
      "text/plain": [
       "[\"'Bismillah\",\n",
       " 'hir',\n",
       " 'rahman',\n",
       " 'ir',\n",
       " 'rahim',\n",
       " 'In',\n",
       " 'the',\n",
       " 'name',\n",
       " 'of',\n",
       " 'God']"
      ]
     },
     "execution_count": 60,
     "metadata": {},
     "output_type": "execute_result"
    }
   ],
   "source": [
    "# Removing the unnecessary puntuation\n",
    "tokenized_word = list(filter(lambda x: x not in string.punctuation, tokenized_word)) # Remove (','; '.')\n",
    "tokenized_word[:10]"
   ]
  },
  {
   "cell_type": "markdown",
   "id": "9d2183a6",
   "metadata": {},
   "source": [
    "Ahora calculamos la frecuencia y distribucion de las palabras en el texto:"
   ]
  },
  {
   "cell_type": "code",
   "execution_count": 62,
   "id": "fa2e1e88",
   "metadata": {},
   "outputs": [
    {
     "name": "stdout",
     "output_type": "stream",
     "text": [
      "<FreqDist with 677 samples and 2079 outcomes>\n"
     ]
    }
   ],
   "source": [
    "fdist = FreqDist(tokenized_word)\n",
    "print(fdist)"
   ]
  },
  {
   "cell_type": "markdown",
   "id": "898d354a",
   "metadata": {},
   "source": [
    "Observamos las palabras mas comunes en el texto:"
   ]
  },
  {
   "cell_type": "code",
   "execution_count": 63,
   "id": "76b04d28",
   "metadata": {},
   "outputs": [
    {
     "data": {
      "text/plain": [
       "[('the', 83), ('and', 69), ('to', 57), ('I', 54), ('of', 46)]"
      ]
     },
     "execution_count": 63,
     "metadata": {},
     "output_type": "execute_result"
    }
   ],
   "source": [
    "fdist.most_common(5)"
   ]
  },
  {
   "cell_type": "markdown",
   "id": "c6aafb30",
   "metadata": {},
   "source": [
    "Visualizacion de la frecuencia de las palabras en el texto"
   ]
  },
  {
   "cell_type": "code",
   "execution_count": 64,
   "id": "df674b02",
   "metadata": {},
   "outputs": [
    {
     "data": {
      "image/png": "[encoded data removed]",
      "text/plain": [
       "<Figure size 432x288 with 1 Axes>"
      ]
     },
     "metadata": {
      "needs_background": "light"
     },
     "output_type": "display_data"
    }
   ],
   "source": [
    "fdist.plot(30,cumulative=False)\n",
    "plt.show()"
   ]
  },
  {
   "cell_type": "markdown",
   "id": "b326d61e",
   "metadata": {},
   "source": [
    "## Nivel 2\n",
    "### - Ejercicio 1:\n",
    "Quita las stopwords y realiza stemming en tu conjunto de datos.\n",
    "<br>\n",
    "\n",
    ">Las stopwords son palabras consideradas como ruido en el texto, como pueden ser 'is', 'am', 'this', etc. Por lo que ahora se procedera a eliminarlas.\n",
    "\n",
    "Primero importamos las stopwords"
   ]
  },
  {
   "cell_type": "code",
   "execution_count": 66,
   "id": "8c7073a9",
   "metadata": {},
   "outputs": [
    {
     "name": "stderr",
     "output_type": "stream",
     "text": [
      "[nltk_data] Downloading package stopwords to\n",
      "[nltk_data]     C:\\Users\\Usuario\\AppData\\Roaming\\nltk_data...\n"
     ]
    },
    {
     "name": "stdout",
     "output_type": "stream",
     "text": [
      "{\"that'll\", 'our', 'off', 'there', 'as', \"hasn't\", 'on', 'nor', \"wasn't\", 'isn', 'me', \"mightn't\", 'do', 'of', 'about', 'to', 'up', 'does', 'then', 'if', 'not', 'itself', 'am', 'are', 'o', 'so', 'themselves', 'that', 'an', \"weren't\", 'until', 'been', 'had', 'haven', 'over', 'won', 'yourselves', 'what', 'out', 'hadn', \"you're\", 'further', 'with', 'his', 'no', 've', 'shouldn', 'is', 'some', 'but', 'too', \"should've\", 'against', 'who', 'didn', 'into', 'my', 'ours', 'mustn', \"shan't\", 'under', 'shan', 'd', 'here', 'few', \"isn't\", 'whom', 'did', 'once', 'very', 'between', 'hers', 'why', 'll', 'ma', 'through', 'a', 'don', \"shouldn't\", 'doing', 'only', 'will', 'aren', 'from', \"it's\", 'was', 'you', 'or', 'below', 'her', 'hasn', 'than', 'should', 'have', 'wouldn', 'those', 'himself', 'other', 'their', 'during', 'can', 'at', 'having', 'these', \"mustn't\", \"don't\", 'most', \"doesn't\", \"needn't\", 'yourself', 'again', 'where', 'by', \"couldn't\", 'being', 'couldn', 'has', 'same', 'mightn', 'herself', 're', 'them', 'they', 'she', \"didn't\", 'and', \"wouldn't\", \"you'd\", 'before', \"won't\", 'such', 'him', 'while', 'm', 'how', 'were', 'he', \"haven't\", 'all', 'needn', 'i', 'which', 'for', 'yours', 'down', \"hadn't\", 'ain', 'this', 'be', 'theirs', 'because', 'the', 'more', 'we', 'myself', \"you've\", 't', 'in', 'now', 'just', 'it', 'own', 'any', 'its', 'ourselves', 'above', 'weren', 'when', \"she's\", \"you'll\", 's', 'y', \"aren't\", 'wasn', 'your', 'after', 'each', 'both', 'doesn'}\n"
     ]
    },
    {
     "name": "stderr",
     "output_type": "stream",
     "text": [
      "[nltk_data]   Unzipping corpora\\stopwords.zip.\n"
     ]
    }
   ],
   "source": [
    "stop_words=set(stopwords.words(\"english\"))\n",
    "print(stop_words)"
   ]
  },
  {
   "cell_type": "markdown",
   "id": "2adb376b",
   "metadata": {},
   "source": [
    "Segundo se eliminan las stopwords del conjunto de palabras:"
   ]
  },
  {
   "cell_type": "code",
   "execution_count": 68,
   "id": "31e17eec",
   "metadata": {},
   "outputs": [
    {
     "name": "stdout",
     "output_type": "stream",
     "text": [
      "Filterd Words: [\"'Bismillah\", 'hir', 'rahman', 'ir', 'rahim', 'In', 'name', 'God', 'merciful', 'beneficent', 'Your', 'Majesties', 'distinguished', 'members', 'Norweigan', 'Nobel', 'Committee', 'dear', 'sisters', 'brothers', 'today', 'day', 'great', 'happiness', 'I', 'humbled', 'Nobel', 'Committee', 'selected', 'precious', 'award', 'Thank', 'everyone', 'continued', 'support', 'love', 'I', 'grateful', 'letters', 'cards', 'I', 'still', 'receive', 'around', 'world', 'Reading', 'kind', 'encouraging', 'words', 'strengthens', 'inspires', 'I', 'would', 'like', 'thank', 'parents', 'unconditional', 'love', 'Thank', 'father', 'clipping', 'wings', 'letting', 'fly', 'Thank', 'mother', 'inspiring', 'patient', 'always', 'speak', 'truth-', 'strongly', 'believe', 'real', 'message', 'Islam', 'I', 'proud', 'first', 'Pashtun', 'first', 'Pakistani', 'first', 'young', 'person', 'receive', 'award', 'I', 'pretty', 'certain', 'I', 'also', 'first', 'recipient', 'Nobel', 'Peace', 'Prize', 'still', 'fights', 'younger', 'brothers', 'I', 'want', 'peace', 'everywhere', 'brothers', 'I', 'still', 'working', 'I', 'also', 'honoured', 'receive', 'award', 'together', 'Kailash', 'Satyarti', 'champion', 'children', \"'s\", 'rights', 'long', 'time', 'Twice', 'long', 'fact', 'I', 'alive', 'I', 'also', 'glad', 'stand', 'together', 'show', 'world', 'Indian', 'Pakistani', 'united', 'peace', 'together', 'work', 'children', \"'s\", 'rights.Dear', 'brothers', 'sisters', 'I', 'named', 'inspirational', 'Pashtun', 'Joan', 'Arc', 'Malalai', 'Maiwand', 'The', 'word', 'Malala', 'means', 'grief', 'stricken', 'sad', 'order', 'lend', 'happiness', 'grandfather', 'would', 'always', 'call', 'Malala', 'The', 'happiest', 'girl', 'world', 'today', 'I', 'happy', 'standing', 'together', 'important', 'cause', 'This', 'award', 'It', 'forgotten', 'children', 'want', 'education', 'It', 'frightened', 'children', 'want', 'peace', 'It', 'voiceless', 'children', 'want', 'change', 'I', 'stand', 'rights', 'raise', 'voice', '...', 'time', 'pity', 'It', 'time', 'take', 'action', 'becomes', 'last', 'time', 'see', 'child', 'deprived', 'education', 'I', 'found', 'people', 'describe', 'many', 'different', 'ways', 'Some', 'people', 'call', 'girl', 'shot', 'Taliban', 'And', 'girl', 'fought', 'rights', 'Some', 'people', 'call', 'Nobel', 'Laureate', 'As', 'far', 'I', 'know', 'I', 'committed', 'stubborn', 'person', 'wants', 'see', 'every', 'child', 'getting', 'quality', 'education', 'wants', 'equal', 'rights', 'women', 'wants', 'peace', 'every', 'corner', 'world', 'Education', 'one', 'blessings', 'life-and', 'one', 'necessities', 'That', 'experience', '17', 'years', 'life', 'In', 'home', 'Swat', 'Valley', 'north', 'Pakistan', 'I', 'always', 'loved', 'school', 'learning', 'new', 'things', 'I', 'remember', 'friends', 'I', 'would', 'decorate', 'hands', 'henna', 'special', 'occasions', 'Instead', 'drawing', 'flowers', 'patterns', 'would', 'paint', 'hands', 'mathematical', 'formulas', 'equations', 'We', 'thirst', 'education', 'future', 'right', 'classroom', 'We', 'would', 'sit', 'read', 'learn', 'together', 'We', 'loved', 'wear', 'neat', 'tidy', 'school', 'uniforms', 'would', 'sit', 'big', 'dreams', 'eyes', 'We', 'wanted', 'make', 'parents', 'proud', 'prove', 'could', 'excel', 'studies', 'achieve', 'things', 'people', 'think', 'boys', 'Things', 'remain', 'When', 'I', 'ten', 'Swat', 'place', 'beauty', 'tourism', 'suddenly', 'changed', 'place', 'terrorism', 'More', '400', 'schools', 'destroyed', 'Girls', 'stopped', 'going', 'school', 'Women', 'flogged', 'Innocent', 'people', 'killed', 'We', 'suffered', 'And', 'beautiful', 'dreams', 'turned', 'nightmares', 'Education', 'went', 'right', 'crime', 'But', 'world', 'suddenly', 'changed', 'priorities', 'changed', 'I', 'two', 'options', 'one', 'remain', 'silent', 'wait', 'killed', 'And', 'second', 'speak', 'killed', 'I', 'chose', 'second', 'one', 'I', 'decided', 'speak', 'The', 'terrorists', 'tried', 'stop', 'us', 'attacked', 'friends', '9th', 'October', '2012', 'bullets', 'could', 'win', 'We', 'survived', 'And', 'since', 'day', 'voices', 'grown', 'louder', 'I', 'tell', 'story', 'unique', 'It', 'story', 'many', 'girls', 'Today', 'I', 'tell', 'stories', 'I', 'brought', 'Oslo', 'sisters', 'share', 'story', 'friends', 'Pakistan', 'Nigeria', 'Syria', 'My', 'brave', 'sisters', 'Shazia', 'Kainat', 'Riaz', 'also', 'shot', 'day', 'Swat', 'They', 'went', 'tragic', 'trauma', 'Also', 'sister', 'Kainat', 'Somro', 'Pakistan', 'suffered', 'extreme', 'violence', 'abuse', 'even', 'brother', 'killed', 'succumb', 'And', 'girls', 'I', 'met', 'Malala', 'Fund', 'campaign', 'like', 'sisters', 'courageous', '16', 'year', 'old', 'sister', 'Mezon', 'Syria', 'lives', 'Jordan', 'refugee', 'camp', 'goes', 'tent', 'tent', 'helping', 'girls', 'boys', 'learn', 'And', 'sister', 'Amina', 'North', 'Nigeria', 'Boko', 'Haram', 'threatens', 'kidnaps', 'girls', 'simply', 'wanting', 'go', 'school', 'Though', 'I', 'appear', 'one', 'girl', 'one', 'person', '5', 'foot', '2', 'inches', 'tall', 'include', 'high', 'heels', 'I', 'lone', 'voice', 'I', 'many', 'I', 'Shazia', 'I', 'Kainat', 'Riaz', 'I', 'Kainat', 'Somro', 'I', 'Mezon', 'I', 'Amina', 'I', '66', 'million', 'girls', 'school', 'People', 'like', 'ask', 'education', 'important', 'especially', 'girls', 'My', 'answer', 'always', 'What', 'I', 'learnt', 'first', 'two', 'chapters', 'Holy', 'Quran', 'word', 'Iqra', 'means', 'read', 'word', 'nun', 'wal-qalam', 'means', 'pen', 'And', 'therefore', 'I', 'said', 'last', 'year', 'United', 'Nations', 'One', 'child', 'one', 'teacher', 'one', 'pen', 'one', 'book', 'change', 'world', 'Today', 'half', 'world', 'see', 'rapid', 'progress', 'modernisation', 'development', 'However', 'countries', 'millions', 'still', 'suffer', 'old', 'problems', 'hunger', 'poverty', 'injustice', 'conflicts', 'Indeed', 'reminded', '2014', 'century', 'passed', 'since', 'beginning', 'First', 'World', 'War', 'still', 'learnt', 'lessons', 'arose', 'loss', 'millions', 'lives', 'hundred', 'years', 'ago', 'There', 'still', 'conflicts', 'hundreds', 'thousands', 'innocent', 'people', 'lost', 'lives', 'Many', 'families', 'become', 'refugees', 'Syria', 'Gaza', 'Iraq', 'There', 'still', 'girls', 'freedom', 'go', 'school', 'north', 'Nigeria', 'In', 'Pakistan', 'Afghanistan', 'see', 'innocent', 'people', 'killed', 'suicide', 'attacks', 'bomb', 'blasts', 'Many', 'children', 'Africa', 'access', 'school', 'poverty', 'Many', 'children', 'India', 'Pakistan', 'deprived', 'right', 'education', 'social', 'taboos', 'forced', 'child', 'labour', 'girls', 'child', 'marriages', 'One', 'good', 'school', 'friends', 'age', 'always', 'bold', 'confident', 'girl', 'dreamed', 'becoming', 'doctor', 'But', 'dream', 'remained', 'dream', 'At', 'age', '12', 'forced', 'get', 'married', 'soon', 'son', 'age', 'child', '14', 'I', 'know', 'friend', 'would', 'good', 'doctor', 'But', 'could', '...', 'girl', 'Her', 'story', 'I', 'dedicate', 'Nobel', 'Prize', 'money', 'Malala', 'Fund', 'help', 'give', 'girls', 'everywhere', 'quality', 'education', 'call', 'leaders', 'help', 'girls', 'like', 'Mezun', 'Amina', 'The', 'first', 'place', 'funding', 'go', 'heart', 'build', 'schools', 'Pakistan-especially', 'home', 'Swat', 'Shangla', 'In', 'village', 'still', 'secondary', 'school', 'girls', 'I', 'want', 'build', 'one', 'friends', 'get', 'education-and', 'opportunity', 'brings', 'fulfil', 'dreams', 'That', 'I', 'begin', 'I', 'stop', 'I', 'continue', 'fight', 'I', 'see', 'every', 'child', 'school', 'I', 'feel', 'much', 'stronger', 'attack', 'I', 'endured', 'I', 'know', 'one', 'stop', 'stop', 'us', 'millions', 'standing', 'together', 'Dear', 'brothers', 'sisters', 'great', 'people', 'brought', 'change', 'like', 'Martin', 'Luther', 'King', 'Nelson', 'Mandela', 'Mother', 'Teresa', 'Aung', 'San', 'Suu', 'Kyi', 'stood', 'stage', 'I', 'hope', 'steps', 'Kailash', 'Satyarti', 'I', 'taken', 'far', 'take', 'journey', 'also', 'bring', 'change', 'lasting', 'change', 'My', 'great', 'hope', 'last', 'time', 'must', 'fight', 'education', 'children', 'We', 'want', 'everyone', 'unite', 'support', 'us', 'campaign', 'solve', 'Like', 'I', 'said', 'already', 'taken', 'many', 'steps', 'right', 'direction', 'Now', 'time', 'take', 'leap', 'It', 'time', 'tell', 'leaders', 'realise', 'important', 'education', 'already', 'know', 'children', 'good', 'schools', 'Now', 'time', 'call', 'take', 'action', 'We', 'ask', 'world', 'leaders', 'unite', 'make', 'education', 'top', 'priority', 'Fifteen', 'years', 'ago', 'world', 'leaders', 'decided', 'set', 'global', 'goals', 'Millennium', 'Development', 'Goals', 'In', 'years', 'followed', 'seen', 'progress', 'The', 'number', 'children', 'school', 'halved', 'However', 'world', 'focused', 'expanding', 'primary', 'education', 'progress', 'reach', 'everyone', 'Next', 'year', '2015', 'representatives', 'around', 'world', 'meet', 'United', 'Nations', 'decide', 'next', 'set', 'goals', 'Sustainable', 'Development', 'Goals', 'This', 'set', 'world', \"'s\", 'ambition', 'generations', 'come', 'Leaders', 'must', 'seize', 'opportunity', 'guarantee', 'free', 'quality', 'primary', 'secondary', 'education', 'every', 'child', 'Some', 'say', 'impractical', 'expensive', 'hard', 'Or', 'even', 'impossible', 'But', 'time', 'world', 'thinks', 'bigger', 'Dear', 'brothers', 'sisters', 'so-called', 'world', 'adults', 'may', 'understand', 'children', \"n't\", 'Why', 'countries', 'call', 'strong', 'powerful', 'creating', 'wars', 'weak', 'bringing', 'peace', 'Why', 'giving', 'guns', 'easy', 'giving', 'books', 'hard', 'Why', 'making', 'tanks', 'easy', 'building', 'schools', 'difficult', 'As', 'living', 'modern', 'age', '21st', 'century', 'believe', 'nothing', 'impossible', 'We', 'reach', 'moon', 'maybe', 'soon', 'land', 'Mars', 'Then', '21st', 'century', 'must', 'determined', 'dream', 'quality', 'education', 'also', 'come', 'true', 'So', 'let', 'us', 'bring', 'equality', 'justice', 'peace', 'Not', 'politicians', 'world', 'leaders', 'need', 'contribute', 'Me', 'You', 'It', 'duty', 'So', 'must', 'work', '...', 'wait', 'I', 'call', 'upon', 'fellow', 'children', 'stand', 'around', 'world', 'Dear', 'sisters', 'brothers', 'let', 'us', 'become', 'first', 'generation', 'decide', 'last', 'The', 'empty', 'classrooms', 'lost', 'childhoods', 'wasted', 'potential-let', 'things', 'end', 'us', 'Let', 'last', 'time', 'boy', 'girl', 'spends', 'childhood', 'factory', 'Let', 'last', 'time', 'girl', 'gets', 'forced', 'early', 'child', 'marriage', 'Let', 'last', 'time', 'innocent', 'child', 'loses', 'life', 'war', 'Let', 'last', 'time', 'classroom', 'remains', 'empty', 'Let', 'last', 'time', 'girl', 'told', 'education', 'crime', 'right', 'Let', 'last', 'time', 'child', 'remains', 'school', 'Let', 'us', 'begin', 'ending', 'Let', 'end', 'us', 'And', 'let', 'us', 'build', 'better', 'future', 'right', 'right', 'Thank']\n"
     ]
    }
   ],
   "source": [
    "#removing stopwords\n",
    "filtered_word=[]\n",
    "for w in tokenized_word:\n",
    "    if w not in stop_words:\n",
    "        filtered_word.append(w)\n",
    "\n",
    "print(\"Filterd Words:\",filtered_word)"
   ]
  },
  {
   "cell_type": "markdown",
   "id": "dab225a9",
   "metadata": {},
   "source": [
    "Ahora podemos ver las palarbas mas comunes en el discurso, sin contar las stopwords:"
   ]
  },
  {
   "cell_type": "code",
   "execution_count": 70,
   "id": "067319b7",
   "metadata": {},
   "outputs": [
    {
     "data": {
      "text/plain": [
       "[('I', 54), ('world', 16), ('time', 15), ('education', 14), ('children', 12)]"
      ]
     },
     "execution_count": 70,
     "metadata": {},
     "output_type": "execute_result"
    }
   ],
   "source": [
    "fdist_filter = FreqDist(filtered_word)\n",
    "fdist_filter.most_common(5)"
   ]
  },
  {
   "cell_type": "markdown",
   "id": "9bd3fdf4",
   "metadata": {},
   "source": [
    "**Stemming**  es un proceso de normalizacion linguistica, el cual reduce las palabras a su palabra raiz."
   ]
  },
  {
   "cell_type": "code",
   "execution_count": 78,
   "id": "28bfbeaa",
   "metadata": {},
   "outputs": [
    {
     "name": "stdout",
     "output_type": "stream",
     "text": [
      "Filtered Words: [\"'Bismillah\", 'hir', 'rahman', 'ir', 'rahim', 'In', 'name', 'God', 'merciful', 'beneficent', 'Your', 'Majesties', 'distinguished', 'members', 'Norweigan', 'Nobel', 'Committee', 'dear', 'sisters', 'brothers', 'today', 'day', 'great', 'happiness', 'I', 'humbled', 'Nobel', 'Committee', 'selected', 'precious']\n",
      "Stemmed Words: [\"'bismillah\", 'hir', 'rahman', 'ir', 'rahim', 'in', 'name', 'god', 'merci', 'benefic', 'your', 'majesti', 'distinguish', 'member', 'norweigan', 'nobel', 'committe', 'dear', 'sister', 'brother', 'today', 'day', 'great', 'happi', 'i', 'humbl', 'nobel', 'committe', 'select', 'preciou']\n"
     ]
    }
   ],
   "source": [
    "#Stemming\n",
    "ps = PorterStemmer()\n",
    "\n",
    "stemmed_words=[]\n",
    "for w in filtered_word:\n",
    "    stemmed_words.append(ps.stem(w))\n",
    "\n",
    "print(\"Filtered Words:\",filtered_word[:30])\n",
    "print(\"Stemmed Words:\",stemmed_words[:30])"
   ]
  },
  {
   "cell_type": "code",
   "execution_count": 76,
   "id": "fe055fbd",
   "metadata": {
    "scrolled": true
   },
   "outputs": [
    {
     "data": {
      "image/png": "[encoded data removed]",
      "text/plain": [
       "<Figure size 432x288 with 1 Axes>"
      ]
     },
     "metadata": {
      "needs_background": "light"
     },
     "output_type": "display_data"
    }
   ],
   "source": [
    "# Frequency of the words with Stemming\n",
    "fdist_stem = FreqDist(stemmed_words)\n",
    "fdist_stem.plot(30,cumulative=False)\n",
    "plt.show()"
   ]
  },
  {
   "cell_type": "code",
   "execution_count": 77,
   "id": "dd94ea0b",
   "metadata": {
    "scrolled": true
   },
   "outputs": [
    {
     "data": {
      "text/plain": [
       "[('i', 54), ('girl', 21), ('world', 17), ('educ', 16), ('school', 16)]"
      ]
     },
     "execution_count": 77,
     "metadata": {},
     "output_type": "execute_result"
    }
   ],
   "source": [
    "fdist_stem.most_common(5)"
   ]
  },
  {
   "cell_type": "code",
   "execution_count": 85,
   "id": "8b3a26cf",
   "metadata": {},
   "outputs": [
    {
     "data": {
      "image/png": "[encoded data removed]",
      "text/plain": [
       "<Figure size 1080x720 with 1 Axes>"
      ]
     },
     "metadata": {
      "needs_background": "light"
     },
     "output_type": "display_data"
    }
   ],
   "source": [
    "wordcloud = WordCloud(max_font_size=70,max_words=30, background_color=\"white\").generate(speech)\n",
    "plt.figure(figsize=(15,10))\n",
    "plt.imshow(wordcloud, interpolation='bilinear')\n",
    "plt.axis('off'); \n",
    "plt.show()"
   ]
  },
  {
   "cell_type": "markdown",
   "id": "623e701e",
   "metadata": {},
   "source": [
    "## Nivel 3\n",
    "### - Ejercicio 1\n",
    "Realiza sentimiento analysis en tu conjunto de datos.\n",
    "\n",
    ">Sentiment analysis: cuantifica el contenido, la idea, la creencia y la opinion de un texto. \n",
    "\n",
    "Ahora aplicamos el Sentiment analysis al discurso, primero creamos un dataframe con las oraciones tokenizadas del discurso"
   ]
  },
  {
   "cell_type": "code",
   "execution_count": 92,
   "id": "86e6ea9f",
   "metadata": {},
   "outputs": [
    {
     "name": "stdout",
     "output_type": "stream",
     "text": [
      "[\"'Bismillah hir rahman ir rahim.\", 'In the name of God, the most merciful, the most beneficent.', 'Your Majesties, distinguished members of the Norweigan Nobel Committee, dear sisters and brothers, today is a day of great happiness for me.', 'I am humbled that the Nobel Committee has selected me for this precious award.', 'Thank you to everyone for your continued support and love.', 'I am grateful for the letters and cards that I still receive from all around the world.', 'Reading your kind and encouraging words strengthens and inspires me.', 'I would like to thank my parents for their unconditional love.', 'Thank you to my father for not clipping my wings and for letting me fly.', 'Thank you to my mother for inspiring me to be patient and to always speak the truth- which we strongly believe is the real message of Islam.', 'I am very proud to be the first Pashtun, the first Pakistani, and the first young person to receive this award.', 'I am pretty certain that I am also the first recipient of the Nobel Peace Prize who still fights with her younger brothers.', 'I want there to be peace everywhere, but my brothers and I are still working on that.', \"I am also honoured to receive this award together with Kailash Satyarti, who has been a champion of children's rights for a long time.\", 'Twice as long, in fact, than I have been alive.', \"I am also glad that we can stand together and show the world that an Indian and a Pakistani can be united in peace and together  work for children's rights.Dear brothers and sisters, I was named after the inspirational Pashtun Joan of Arc, Malalai of Maiwand.\", 'The word Malala means grief stricken, sad, but in order to lend some happiness to it, my grandfather would always call me Malala - The happiest girl in this world and today I am very happy that we are standing together for an important cause.', 'This award is not just for me.', 'It is for those forgotten children who want education.', 'It is for those frightened children who want peace.', 'It is for those voiceless children who want change.', 'I am here to stand up for their rights, raise their voice ... it is not time to pity them.', 'It is time to take action so it becomes the last time that we see a child deprived of education.', 'I have found that people describe me in many different ways.', 'Some people call me the girl who was shot by the Taliban.', 'And some, the girl who fought for her rights.', 'Some people, call me a Nobel Laureate now.', 'As far as I know, I am just a committed and stubborn person who wants to see every child getting quality education, who wants equal rights for women and who wants peace in every corner of the world.', 'Education is one of the blessings of life-and one of its necessities.', 'That has been my experience during the 17 years life.', 'In my home in Swat Valley, in the north of Pakistan, I always loved school and learning new things.', 'I remember when my friends and I would decorate our hands with henna for special occasions.', 'Instead of drawing flowers and patterns we would paint our hands with mathematical formulas and equations.', 'We had a thirst for education because our future was right there in that classroom.', 'We would sit and read and learn together.', 'We loved to wear neat and tidy school uniforms and we would sit there with big dreams in our eyes.', 'We wanted to make our parents proud and prove that we could excel in our studies and achieve things, which some people think only boys can.', 'Things did not remain the same.', 'When I was ten, Swat, which was a place of beauty and tourism, suddenly changed into a place of terrorism.', 'More than 400 schools were destroyed.', 'Girls were stopped from going to school.', 'Women were flogged.', 'Innocent people were killed.', 'We all suffered.', 'And our beautiful dreams turned into nightmares.', 'Education went from being a right to being a crime.', 'But when my world suddenly changed, my priorities changed too.', 'I had two options, one was to remain silent and wait to be killed.', 'And the second was to speak up and then be killed.', 'I chose the second one.', 'I decided to speak up.', 'The terrorists tried to stop us and attacked me and my friends on 9th October 2012, but their bullets could not win.', 'We survived.', 'And since that day, our voices have only grown louder.', 'I tell my story, not because it is unique, but because it is not.', 'It is the story of many girls.', 'Today, I tell their stories too.', 'I have brought with me to Oslo, some of my sisters, who share this story, friends from Pakistan, Nigeria and Syria.', 'My brave sisters Shazia and Kainat Riaz who were also shot that day in Swat with me.', 'They went through a tragic trauma too.', 'Also my sister Kainat Somro from Pakistan who suffered extreme violence and abuse, even her brother was killed, but she did not succumb.', 'And there are girls with me, who I have met during my Malala Fund campaign, who are now like my sisters, my courageous 16 year old sister Mezon from Syria, who now lives in Jordan in a refugee camp and goes from tent to tent helping girls and boys to learn.', 'And my sister Amina, from the North of Nigeria, where Boko Haram threatens and kidnaps girls, simply for wanting to go to school.', 'Though I appear as one girl, one person, who is 5 foot 2 inches tall, if you include my high heels.', 'I am not a lone voice, I am many.', 'I am Shazia.', 'I am Kainat Riaz.', 'I am Kainat Somro.', 'I am Mezon.', 'I am Amina.', 'I am those 66 million girls who are out of school.', 'People like to ask me why education is important especially for girls.', 'My answer is always the same.', 'What I have learnt from the first two chapters of the Holy Quran, is the word Iqra, which means read, and the word, nun wal-qalam which means by the pen?', 'And therefore as I said last year at the United Nations, One child, one teacher, one pen and one book can change the world.', 'Today, in half of the world, we see rapid progress, modernisation and development.', 'However, there are countries where millions still suffer from the very old problems of hunger, poverty, injustice and conflicts.', 'Indeed, we are reminded in 2014 that a century has passed since the beginning of the First World War, but we still have not learnt all of the lessons that arose from the loss of those millions of lives a hundred years ago.', 'There are still conflicts in which hundreds of thousands of innocent people have lost their lives.', 'Many families have become refugees in Syria, Gaza and Iraq.', 'There are still girls who have no freedom to go to school in the north of Nigeria.', 'In Pakistan and Afghanistan we see innocent people being killed in suicide attacks and bomb blasts.', 'Many children in Africa do not have access to school because of poverty.', 'Many children in India and Pakistan are deprived of their right to education because of social taboos, or they have been forced into child labour and girls into child marriages.', 'One of my very good school friends, the same age as me,  had always been a bold and confident girl and dreamed of becoming a doctor.', 'But her dream remained a dream.', 'At age of 12, she was forced to get married and then soon had a son at an age when she herself was a child - only 14.', 'I know that my friend would have been a very good doctor.', 'But she could not ... because she was a girl.', 'Her story is why I dedicate the Nobel Prize money to the Malala Fund, to help give girls everywhere a quality education and call on leaders to help girls like me, Mezun and Amina.', 'The first place this funding will go is where my heart is, to build schools in Pakistan-especially in my home of Swat and Shangla.', 'In my own village, there is still no secondary school for girls.', 'I want to build one, so my friends can get an education-and the opportunity it brings to fulfil their dreams.', 'That is where I will begin, but it is not where I will stop.', 'I will continue this fight until I see every child in school.', 'I feel much stronger after the attack that I endured, because I know, no one can stop me, or stop us, because now we are millions, standing up together.', 'Dear brothers and sisters, great people,who brought change, like Martin Luther King and Nelson Mandela, Mother Teresa and Aung San Suu Kyi, they once stood here on this stage.', 'I hope the steps that Kailash Satyarti and I have taken so far and will take on this journey will also bring change - lasting change.', 'My great hope is that this will be the last time we must fight for the education of our children.', 'We want everyone to unite to support us in our campaign so that we can solve this once and for all.', 'Like I said, we have already taken many steps in the right direction.', 'Now is the time to take a leap.', 'It is not time to tell the leaders to realise how important education is - they already know it - their own children are in good schools.', 'Now it is time to call them to take action.', 'We ask the world leaders to unite and make education their top priority.', 'Fifteen years ago, the world leaders decided on a set of global goals, the Millennium Development Goals.', 'In the years that have followed, we have seen some progress.', 'The number of children out of school has been halved.', 'However, the world focused only on expanding primary education, and progress did not reach everyone.', 'Next year, in 2015, representatives from around the world will meet at the United Nations to decide on the next set of goals, the Sustainable Development Goals.', \"This will set the world's ambition for generations to come.\", 'Leaders must seize this opportunity to guarantee a free, quality primary and secondary education for every child.', 'Some will say this is impractical, or too expensive, or too hard.', 'Or even impossible.', 'But it is time the world thinks bigger.', \"Dear brothers and sisters, the so-called world of adults may understand it, but we children don't.\", 'Why is it that countries which we call strong are so powerful in creating wars but so weak in bringing peace?', 'Why is it that giving guns is so easy but giving books is so hard?', 'Why is it that making tanks is so easy, but building schools is so difficult?', 'As we are living in the modern age, the 21st century and we all believe that nothing is impossible.', 'We can reach the moon and maybe soon will land on Mars.', 'Then, in this, the 21st century, we must be determined that our dream of quality education for all will also come true.', 'So let us bring equality, justice and peace for all.', 'Not just the politicians and the world leaders, we all need to contribute.', 'Me.', 'You.', 'It is our duty.', 'So we must work ... and not wait.', 'I call upon my fellow children to stand up around the world.', 'Dear sisters and brothers, let us become the first generation to decide to be the last.', 'The empty classrooms, the lost childhoods, wasted potential-let these things end with us.', 'Let this be the last time that a boy or a girl spends their childhood in a factory.', 'Let this be the last time that a girl gets forced into early child marriage.', 'Let this be the last time that an innocent child loses their life in war.', 'Let this be the last time that a classroom remains empty.', 'Let this be the last time that a girl is told education is a crime and not a right.', 'Let this be the last time that a child remains out of school.', 'Let us begin this ending.', 'Let this end with us.', 'And let us build a better future right here, right now.', \"Thank you.'\"]\n"
     ]
    }
   ],
   "source": [
    "tokenized_text=sent_tokenize(speech)\n",
    "print(tokenized_text)"
   ]
  },
  {
   "cell_type": "code",
   "execution_count": 98,
   "id": "703de606",
   "metadata": {
    "scrolled": true
   },
   "outputs": [
    {
     "data": {
      "text/html": [
       "<div>\n",
       "<style scoped>\n",
       "    .dataframe tbody tr th:only-of-type {\n",
       "        vertical-align: middle;\n",
       "    }\n",
       "\n",
       "    .dataframe tbody tr th {\n",
       "        vertical-align: top;\n",
       "    }\n",
       "\n",
       "    .dataframe thead th {\n",
       "        text-align: right;\n",
       "    }\n",
       "</style>\n",
       "<table border=\"1\" class=\"dataframe\">\n",
       "  <thead>\n",
       "    <tr style=\"text-align: right;\">\n",
       "      <th></th>\n",
       "      <th>Sentences</th>\n",
       "    </tr>\n",
       "  </thead>\n",
       "  <tbody>\n",
       "    <tr>\n",
       "      <th>0</th>\n",
       "      <td>'Bismillah hir rahman ir rahim.</td>\n",
       "    </tr>\n",
       "    <tr>\n",
       "      <th>1</th>\n",
       "      <td>In the name of God, the most merciful, the mos...</td>\n",
       "    </tr>\n",
       "    <tr>\n",
       "      <th>2</th>\n",
       "      <td>Your Majesties, distinguished members of the N...</td>\n",
       "    </tr>\n",
       "    <tr>\n",
       "      <th>3</th>\n",
       "      <td>I am humbled that the Nobel Committee has sele...</td>\n",
       "    </tr>\n",
       "    <tr>\n",
       "      <th>4</th>\n",
       "      <td>Thank you to everyone for your continued suppo...</td>\n",
       "    </tr>\n",
       "    <tr>\n",
       "      <th>...</th>\n",
       "      <td>...</td>\n",
       "    </tr>\n",
       "    <tr>\n",
       "      <th>136</th>\n",
       "      <td>Let this be the last time that a child remains...</td>\n",
       "    </tr>\n",
       "    <tr>\n",
       "      <th>137</th>\n",
       "      <td>Let us begin this ending.</td>\n",
       "    </tr>\n",
       "    <tr>\n",
       "      <th>138</th>\n",
       "      <td>Let this end with us.</td>\n",
       "    </tr>\n",
       "    <tr>\n",
       "      <th>139</th>\n",
       "      <td>And let us build a better future right here, r...</td>\n",
       "    </tr>\n",
       "    <tr>\n",
       "      <th>140</th>\n",
       "      <td>Thank you.'</td>\n",
       "    </tr>\n",
       "  </tbody>\n",
       "</table>\n",
       "<p>141 rows × 1 columns</p>\n",
       "</div>"
      ],
      "text/plain": [
       "                                             Sentences\n",
       "0                      'Bismillah hir rahman ir rahim.\n",
       "1    In the name of God, the most merciful, the mos...\n",
       "2    Your Majesties, distinguished members of the N...\n",
       "3    I am humbled that the Nobel Committee has sele...\n",
       "4    Thank you to everyone for your continued suppo...\n",
       "..                                                 ...\n",
       "136  Let this be the last time that a child remains...\n",
       "137                          Let us begin this ending.\n",
       "138                              Let this end with us.\n",
       "139  And let us build a better future right here, r...\n",
       "140                                        Thank you.'\n",
       "\n",
       "[141 rows x 1 columns]"
      ]
     },
     "execution_count": 98,
     "metadata": {},
     "output_type": "execute_result"
    }
   ],
   "source": [
    "df_speech = pd.DataFrame({'Sentences': tokenized_text})"
   ]
  },
  {
   "cell_type": "markdown",
   "id": "ef0c017f",
   "metadata": {},
   "source": [
    "Ahora iniciamos el modelo y analizamos el sentimiento de cada frase, agregando el resultado al dataframe"
   ]
  },
  {
   "cell_type": "code",
   "execution_count": 107,
   "id": "c7662962",
   "metadata": {},
   "outputs": [],
   "source": [
    "s_analyzer=SentimentIntensityAnalyzer()\n",
    "\n",
    "sentiments=df_speech['Sentences'].apply(lambda x: s_analyzer.polarity_scores(x))\n",
    "\n",
    "df_speech['compound']=sentiments.apply(lambda x : x['compound'])\n",
    "df_speech['negative']=sentiments.apply(lambda x : x['neg'])\n",
    "df_speech['neutral']=sentiments.apply(lambda x : x['neu'])\n",
    "df_speech['positive']=sentiments.apply(lambda x : x['pos'])"
   ]
  },
  {
   "cell_type": "code",
   "execution_count": 108,
   "id": "32f6c52a",
   "metadata": {
    "scrolled": true
   },
   "outputs": [
    {
     "data": {
      "text/html": [
       "<div>\n",
       "<style scoped>\n",
       "    .dataframe tbody tr th:only-of-type {\n",
       "        vertical-align: middle;\n",
       "    }\n",
       "\n",
       "    .dataframe tbody tr th {\n",
       "        vertical-align: top;\n",
       "    }\n",
       "\n",
       "    .dataframe thead th {\n",
       "        text-align: right;\n",
       "    }\n",
       "</style>\n",
       "<table border=\"1\" class=\"dataframe\">\n",
       "  <thead>\n",
       "    <tr style=\"text-align: right;\">\n",
       "      <th></th>\n",
       "      <th>Sentences</th>\n",
       "      <th>negative</th>\n",
       "      <th>neutral</th>\n",
       "      <th>positive</th>\n",
       "      <th>compound</th>\n",
       "    </tr>\n",
       "  </thead>\n",
       "  <tbody>\n",
       "    <tr>\n",
       "      <th>0</th>\n",
       "      <td>'Bismillah hir rahman ir rahim.</td>\n",
       "      <td>0.0</td>\n",
       "      <td>1.000</td>\n",
       "      <td>0.000</td>\n",
       "      <td>0.0000</td>\n",
       "    </tr>\n",
       "    <tr>\n",
       "      <th>1</th>\n",
       "      <td>In the name of God, the most merciful, the mos...</td>\n",
       "      <td>0.0</td>\n",
       "      <td>0.613</td>\n",
       "      <td>0.387</td>\n",
       "      <td>0.6901</td>\n",
       "    </tr>\n",
       "    <tr>\n",
       "      <th>2</th>\n",
       "      <td>Your Majesties, distinguished members of the N...</td>\n",
       "      <td>0.0</td>\n",
       "      <td>0.636</td>\n",
       "      <td>0.364</td>\n",
       "      <td>0.8834</td>\n",
       "    </tr>\n",
       "    <tr>\n",
       "      <th>3</th>\n",
       "      <td>I am humbled that the Nobel Committee has sele...</td>\n",
       "      <td>0.0</td>\n",
       "      <td>0.583</td>\n",
       "      <td>0.417</td>\n",
       "      <td>0.8349</td>\n",
       "    </tr>\n",
       "    <tr>\n",
       "      <th>4</th>\n",
       "      <td>Thank you to everyone for your continued suppo...</td>\n",
       "      <td>0.0</td>\n",
       "      <td>0.427</td>\n",
       "      <td>0.573</td>\n",
       "      <td>0.8555</td>\n",
       "    </tr>\n",
       "    <tr>\n",
       "      <th>...</th>\n",
       "      <td>...</td>\n",
       "      <td>...</td>\n",
       "      <td>...</td>\n",
       "      <td>...</td>\n",
       "      <td>...</td>\n",
       "    </tr>\n",
       "    <tr>\n",
       "      <th>136</th>\n",
       "      <td>Let this be the last time that a child remains...</td>\n",
       "      <td>0.0</td>\n",
       "      <td>1.000</td>\n",
       "      <td>0.000</td>\n",
       "      <td>0.0000</td>\n",
       "    </tr>\n",
       "    <tr>\n",
       "      <th>137</th>\n",
       "      <td>Let us begin this ending.</td>\n",
       "      <td>0.0</td>\n",
       "      <td>1.000</td>\n",
       "      <td>0.000</td>\n",
       "      <td>0.0000</td>\n",
       "    </tr>\n",
       "    <tr>\n",
       "      <th>138</th>\n",
       "      <td>Let this end with us.</td>\n",
       "      <td>0.0</td>\n",
       "      <td>1.000</td>\n",
       "      <td>0.000</td>\n",
       "      <td>0.0000</td>\n",
       "    </tr>\n",
       "    <tr>\n",
       "      <th>139</th>\n",
       "      <td>And let us build a better future right here, r...</td>\n",
       "      <td>0.0</td>\n",
       "      <td>0.756</td>\n",
       "      <td>0.244</td>\n",
       "      <td>0.4404</td>\n",
       "    </tr>\n",
       "    <tr>\n",
       "      <th>140</th>\n",
       "      <td>Thank you.'</td>\n",
       "      <td>0.0</td>\n",
       "      <td>0.286</td>\n",
       "      <td>0.714</td>\n",
       "      <td>0.3612</td>\n",
       "    </tr>\n",
       "  </tbody>\n",
       "</table>\n",
       "<p>141 rows × 5 columns</p>\n",
       "</div>"
      ],
      "text/plain": [
       "                                             Sentences  negative  neutral  \\\n",
       "0                      'Bismillah hir rahman ir rahim.       0.0    1.000   \n",
       "1    In the name of God, the most merciful, the mos...       0.0    0.613   \n",
       "2    Your Majesties, distinguished members of the N...       0.0    0.636   \n",
       "3    I am humbled that the Nobel Committee has sele...       0.0    0.583   \n",
       "4    Thank you to everyone for your continued suppo...       0.0    0.427   \n",
       "..                                                 ...       ...      ...   \n",
       "136  Let this be the last time that a child remains...       0.0    1.000   \n",
       "137                          Let us begin this ending.       0.0    1.000   \n",
       "138                              Let this end with us.       0.0    1.000   \n",
       "139  And let us build a better future right here, r...       0.0    0.756   \n",
       "140                                        Thank you.'       0.0    0.286   \n",
       "\n",
       "     positive  compound  \n",
       "0       0.000    0.0000  \n",
       "1       0.387    0.6901  \n",
       "2       0.364    0.8834  \n",
       "3       0.417    0.8349  \n",
       "4       0.573    0.8555  \n",
       "..        ...       ...  \n",
       "136     0.000    0.0000  \n",
       "137     0.000    0.0000  \n",
       "138     0.000    0.0000  \n",
       "139     0.244    0.4404  \n",
       "140     0.714    0.3612  \n",
       "\n",
       "[141 rows x 5 columns]"
      ]
     },
     "execution_count": 108,
     "metadata": {},
     "output_type": "execute_result"
    }
   ],
   "source": [
    "df_speech"
   ]
  },
  {
   "cell_type": "code",
   "execution_count": 104,
   "id": "438c5e6b",
   "metadata": {},
   "outputs": [
    {
     "data": {
      "text/plain": [
       "{'neg': 0.111, 'neu': 0.709, 'pos': 0.18, 'compound': 0.9994}"
      ]
     },
     "execution_count": 104,
     "metadata": {},
     "output_type": "execute_result"
    }
   ],
   "source": [
    "s_analyzer.polarity_scores(speech)"
   ]
  },
  {
   "cell_type": "markdown",
   "id": "a32fa63d",
   "metadata": {},
   "source": [
    "Al analizar la polaridad del texto, se puede observar que el discurso de Malala es mayormente neutral"
   ]
  },
  {
   "cell_type": "code",
   "execution_count": 113,
   "id": "801a16a0",
   "metadata": {},
   "outputs": [
    {
     "data": {
      "text/html": [
       "<div>\n",
       "<style scoped>\n",
       "    .dataframe tbody tr th:only-of-type {\n",
       "        vertical-align: middle;\n",
       "    }\n",
       "\n",
       "    .dataframe tbody tr th {\n",
       "        vertical-align: top;\n",
       "    }\n",
       "\n",
       "    .dataframe thead th {\n",
       "        text-align: right;\n",
       "    }\n",
       "</style>\n",
       "<table border=\"1\" class=\"dataframe\">\n",
       "  <thead>\n",
       "    <tr style=\"text-align: right;\">\n",
       "      <th></th>\n",
       "      <th>negative</th>\n",
       "      <th>positive</th>\n",
       "      <th>neutral</th>\n",
       "    </tr>\n",
       "  </thead>\n",
       "  <tbody>\n",
       "    <tr>\n",
       "      <th>count</th>\n",
       "      <td>141.000000</td>\n",
       "      <td>141.000000</td>\n",
       "      <td>141.000000</td>\n",
       "    </tr>\n",
       "    <tr>\n",
       "      <th>mean</th>\n",
       "      <td>0.071986</td>\n",
       "      <td>0.139943</td>\n",
       "      <td>0.788064</td>\n",
       "    </tr>\n",
       "    <tr>\n",
       "      <th>std</th>\n",
       "      <td>0.138278</td>\n",
       "      <td>0.178446</td>\n",
       "      <td>0.201426</td>\n",
       "    </tr>\n",
       "    <tr>\n",
       "      <th>min</th>\n",
       "      <td>0.000000</td>\n",
       "      <td>0.000000</td>\n",
       "      <td>0.225000</td>\n",
       "    </tr>\n",
       "    <tr>\n",
       "      <th>25%</th>\n",
       "      <td>0.000000</td>\n",
       "      <td>0.000000</td>\n",
       "      <td>0.641000</td>\n",
       "    </tr>\n",
       "    <tr>\n",
       "      <th>50%</th>\n",
       "      <td>0.000000</td>\n",
       "      <td>0.078000</td>\n",
       "      <td>0.815000</td>\n",
       "    </tr>\n",
       "    <tr>\n",
       "      <th>75%</th>\n",
       "      <td>0.104000</td>\n",
       "      <td>0.244000</td>\n",
       "      <td>1.000000</td>\n",
       "    </tr>\n",
       "    <tr>\n",
       "      <th>max</th>\n",
       "      <td>0.615000</td>\n",
       "      <td>0.767000</td>\n",
       "      <td>1.000000</td>\n",
       "    </tr>\n",
       "  </tbody>\n",
       "</table>\n",
       "</div>"
      ],
      "text/plain": [
       "         negative    positive     neutral\n",
       "count  141.000000  141.000000  141.000000\n",
       "mean     0.071986    0.139943    0.788064\n",
       "std      0.138278    0.178446    0.201426\n",
       "min      0.000000    0.000000    0.225000\n",
       "25%      0.000000    0.000000    0.641000\n",
       "50%      0.000000    0.078000    0.815000\n",
       "75%      0.104000    0.244000    1.000000\n",
       "max      0.615000    0.767000    1.000000"
      ]
     },
     "execution_count": 113,
     "metadata": {},
     "output_type": "execute_result"
    }
   ],
   "source": [
    "df_speech[[\"negative\",\"positive\",'neutral']].describe()"
   ]
  },
  {
   "cell_type": "code",
   "execution_count": 111,
   "id": "7f573837",
   "metadata": {},
   "outputs": [
    {
     "data": {
      "image/png": "[encoded data removed]",
      "text/plain": [
       "<Figure size 1440x2160 with 1 Axes>"
      ]
     },
     "metadata": {
      "needs_background": "light"
     },
     "output_type": "display_data"
    }
   ],
   "source": [
    "plt.figure(figsize=(20,30))\n",
    "names = df_speech['Sentences'].str[:10]\n",
    "barWidth = 0.9\n",
    "\n",
    "# Create negative Bars\n",
    "plt.barh(y=names, \n",
    "        width=df_speech.negative, \n",
    "        height=barWidth, color='#CD3333', label='Negative')\n",
    "# Create neutral Bars\n",
    "plt.barh(y=names, \n",
    "        width=df_speech.neutral,\n",
    "        height=barWidth,  left=df_speech.negative,  color='#C1CDCD', label='Neutral')\n",
    "# Create positive Bars\n",
    "plt.barh(y=names, \n",
    "        width=df_speech.positive, \n",
    "        height=barWidth,  left=[i+j for i,j in zip(df_speech.negative, df_speech.neutral)],color='#458B74', label='Positive')\n",
    " \n",
    "plt.yticks(names)\n",
    "plt.ylabel(\"Paragraphs (first 10 characters)\", fontsize=15)\n",
    "plt.xlabel(\"Sentiment Intensity\", fontsize=15)\n",
    "plt.legend(fontsize=15) \n",
    "plt.title(\"Sentiment intensity score of paragraphs.\\nIn the order of appearance\", fontsize=15)\n",
    "plt.show()"
   ]
  },
  {
   "cell_type": "markdown",
   "id": "c9ef3c1c",
   "metadata": {},
   "source": [
    "Se puede observar que el tono del discurso es neutral y mayormente positivo."
   ]
  }
 ],
 "metadata": {
  "kernelspec": {
   "display_name": "Python 3",
   "language": "python",
   "name": "python3"
  },
  "language_info": {
   "codemirror_mode": {
    "name": "ipython",
    "version": 3
   },
   "file_extension": ".py",
   "mimetype": "text/x-python",
   "name": "python",
   "nbconvert_exporter": "python",
   "pygments_lexer": "ipython3",
   "version": "3.8.8"
  }
 },
 "nbformat": 4,
 "nbformat_minor": 5
}
